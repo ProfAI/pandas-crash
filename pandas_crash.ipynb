{
  "nbformat": 4,
  "nbformat_minor": 0,
  "metadata": {
    "kernelspec": {
      "display_name": "Python 3",
      "language": "python",
      "name": "python3"
    },
    "language_info": {
      "codemirror_mode": {
        "name": "ipython",
        "version": 3
      },
      "file_extension": ".py",
      "mimetype": "text/x-python",
      "name": "python",
      "nbconvert_exporter": "python",
      "pygments_lexer": "ipython3",
      "version": "3.6.4"
    },
    "colab": {
      "name": "pandas_crash.ipynb",
      "provenance": [],
      "collapsed_sections": [],
      "include_colab_link": true
    }
  },
  "cells": [
    {
      "cell_type": "markdown",
      "metadata": {
        "id": "view-in-github",
        "colab_type": "text"
      },
      "source": [
        "<a href=\"https://colab.research.google.com/github/ProfAI/pandas-crash/blob/main/pandas_crash.ipynb\" target=\"_parent\"><img src=\"https://colab.research.google.com/assets/colab-badge.svg\" alt=\"Open In Colab\"/></a>"
      ]
    },
    {
      "cell_type": "markdown",
      "metadata": {
        "id": "d64dPjXvwLWE"
      },
      "source": [
        "# Analisi e manipolazione dei dati con Pandas - Crash Course\n",
        "Pandas è una libreria Python appositamente sviluppata per l'analisi e la manipolazione dei dati, in questo Notebook vedremo insieme come utilizzarla con un dataset reale.<br>\n",
        "Importiamo pandas con l'alias pd."
      ]
    },
    {
      "cell_type": "code",
      "metadata": {
        "id": "5JXmEn1MwLWH"
      },
      "source": [
        "import pandas as pd"
      ],
      "execution_count": null,
      "outputs": []
    },
    {
      "cell_type": "markdown",
      "metadata": {
        "id": "V1Edg_KDwdyy"
      },
      "source": [
        "## Il DataFrame\n",
        "Pandas utilizza una particolare struttura dati chiamata DataFrame per rappresentare i dati in formato tabulare."
      ]
    },
    {
      "cell_type": "markdown",
      "metadata": {
        "id": "mFzwhYSbyKIr"
      },
      "source": [
        "E' possibile creare un DataFrame in diversi modi, ad esempio da un dizionario, in cui ogni chiave corrisponde ad una colonna del DataFrame."
      ]
    },
    {
      "cell_type": "code",
      "metadata": {
        "id": "AgI7Ds9NwmKl",
        "colab": {
          "base_uri": "https://localhost:8080/",
          "height": 204
        },
        "outputId": "203e4dd7-c297-416a-be1e-5081237eb272"
      },
      "source": [
        "data = {'altezza': [177, 181, 158, 171, 188], 'peso': [72.5, 80.2, 48.3, 56.8, 91.2], 'genere':[\"uomo\", \"uomo\", \"donna\", \"donna\", \"uomo\"]}\n",
        "df = pd.DataFrame(data)\n",
        "df"
      ],
      "execution_count": null,
      "outputs": [
        {
          "output_type": "execute_result",
          "data": {
            "text/html": [
              "<div>\n",
              "<style scoped>\n",
              "    .dataframe tbody tr th:only-of-type {\n",
              "        vertical-align: middle;\n",
              "    }\n",
              "\n",
              "    .dataframe tbody tr th {\n",
              "        vertical-align: top;\n",
              "    }\n",
              "\n",
              "    .dataframe thead th {\n",
              "        text-align: right;\n",
              "    }\n",
              "</style>\n",
              "<table border=\"1\" class=\"dataframe\">\n",
              "  <thead>\n",
              "    <tr style=\"text-align: right;\">\n",
              "      <th></th>\n",
              "      <th>altezza</th>\n",
              "      <th>peso</th>\n",
              "      <th>genere</th>\n",
              "    </tr>\n",
              "  </thead>\n",
              "  <tbody>\n",
              "    <tr>\n",
              "      <th>0</th>\n",
              "      <td>177</td>\n",
              "      <td>72.5</td>\n",
              "      <td>uomo</td>\n",
              "    </tr>\n",
              "    <tr>\n",
              "      <th>1</th>\n",
              "      <td>181</td>\n",
              "      <td>80.2</td>\n",
              "      <td>uomo</td>\n",
              "    </tr>\n",
              "    <tr>\n",
              "      <th>2</th>\n",
              "      <td>158</td>\n",
              "      <td>48.3</td>\n",
              "      <td>donna</td>\n",
              "    </tr>\n",
              "    <tr>\n",
              "      <th>3</th>\n",
              "      <td>171</td>\n",
              "      <td>56.8</td>\n",
              "      <td>donna</td>\n",
              "    </tr>\n",
              "    <tr>\n",
              "      <th>4</th>\n",
              "      <td>188</td>\n",
              "      <td>91.2</td>\n",
              "      <td>uomo</td>\n",
              "    </tr>\n",
              "  </tbody>\n",
              "</table>\n",
              "</div>"
            ],
            "text/plain": [
              "   altezza  peso genere\n",
              "0      177  72.5   uomo\n",
              "1      181  80.2   uomo\n",
              "2      158  48.3  donna\n",
              "3      171  56.8  donna\n",
              "4      188  91.2   uomo"
            ]
          },
          "metadata": {
            "tags": []
          },
          "execution_count": 2
        }
      ]
    },
    {
      "cell_type": "markdown",
      "metadata": {
        "id": "JMWtZgstznBv"
      },
      "source": [
        "Oppure utilizzando una lista di osservazioni e (opzionalmente) una lista con i nomi delle colonne."
      ]
    },
    {
      "cell_type": "code",
      "metadata": {
        "id": "XgBHQhyDyUQZ",
        "colab": {
          "base_uri": "https://localhost:8080/",
          "height": 205
        },
        "outputId": "4bd9a8ca-b222-4388-a429-aa692ec9193d"
      },
      "source": [
        "import numpy as np\n",
        "\n",
        "values = [[177, 72.5, \"uomo\"], [181, 80.2, \"uomo\"], [158, 48.3, \"donna\"], [171, 56.8, \"donna\"], [188, 91.2, \"uomo\"]]\n",
        "columns = [\"altezza\", \"peso\", \"genere\"]\n",
        "df = pd.DataFrame(values, columns=columns)\n",
        "df"
      ],
      "execution_count": null,
      "outputs": [
        {
          "output_type": "execute_result",
          "data": {
            "text/html": [
              "<div>\n",
              "<style scoped>\n",
              "    .dataframe tbody tr th:only-of-type {\n",
              "        vertical-align: middle;\n",
              "    }\n",
              "\n",
              "    .dataframe tbody tr th {\n",
              "        vertical-align: top;\n",
              "    }\n",
              "\n",
              "    .dataframe thead th {\n",
              "        text-align: right;\n",
              "    }\n",
              "</style>\n",
              "<table border=\"1\" class=\"dataframe\">\n",
              "  <thead>\n",
              "    <tr style=\"text-align: right;\">\n",
              "      <th></th>\n",
              "      <th>altezza</th>\n",
              "      <th>peso</th>\n",
              "      <th>genere</th>\n",
              "    </tr>\n",
              "  </thead>\n",
              "  <tbody>\n",
              "    <tr>\n",
              "      <th>0</th>\n",
              "      <td>177</td>\n",
              "      <td>72.5</td>\n",
              "      <td>uomo</td>\n",
              "    </tr>\n",
              "    <tr>\n",
              "      <th>1</th>\n",
              "      <td>181</td>\n",
              "      <td>80.2</td>\n",
              "      <td>uomo</td>\n",
              "    </tr>\n",
              "    <tr>\n",
              "      <th>2</th>\n",
              "      <td>158</td>\n",
              "      <td>48.3</td>\n",
              "      <td>donna</td>\n",
              "    </tr>\n",
              "    <tr>\n",
              "      <th>3</th>\n",
              "      <td>171</td>\n",
              "      <td>56.8</td>\n",
              "      <td>donna</td>\n",
              "    </tr>\n",
              "    <tr>\n",
              "      <th>4</th>\n",
              "      <td>188</td>\n",
              "      <td>91.2</td>\n",
              "      <td>uomo</td>\n",
              "    </tr>\n",
              "  </tbody>\n",
              "</table>\n",
              "</div>"
            ],
            "text/plain": [
              "   altezza  peso genere\n",
              "0      177  72.5   uomo\n",
              "1      181  80.2   uomo\n",
              "2      158  48.3  donna\n",
              "3      171  56.8  donna\n",
              "4      188  91.2   uomo"
            ]
          },
          "metadata": {
            "tags": []
          },
          "execution_count": 41
        }
      ]
    },
    {
      "cell_type": "markdown",
      "metadata": {
        "id": "87YppP5-0hS4"
      },
      "source": [
        "Possiamo accedere ai valori di una singola colonna utilizzando il nome come chiave, il risultato sarà un'altra struttura dati di pandas chiamata Series, utilizzata per immagazzinare array monodimensiali. Un DataFrame è composto da diverse colonne di Series."
      ]
    },
    {
      "cell_type": "code",
      "metadata": {
        "colab": {
          "base_uri": "https://localhost:8080/"
        },
        "id": "XMjmPlgs0jM2",
        "outputId": "fb8154b8-6e34-46c1-efdd-3d59d9718098"
      },
      "source": [
        "Y = df['genere']\n",
        "print(type(Y))\n",
        "Y"
      ],
      "execution_count": null,
      "outputs": [
        {
          "output_type": "stream",
          "text": [
            "<class 'pandas.core.series.Series'>\n"
          ],
          "name": "stdout"
        },
        {
          "output_type": "execute_result",
          "data": {
            "text/plain": [
              "0     uomo\n",
              "1     uomo\n",
              "2    donna\n",
              "3    donna\n",
              "4     uomo\n",
              "Name: genere, dtype: object"
            ]
          },
          "metadata": {
            "tags": []
          },
          "execution_count": 10
        }
      ]
    },
    {
      "cell_type": "markdown",
      "metadata": {
        "id": "ioJE0Ab5145d"
      },
      "source": [
        "Possiamo fare la stessa cosa con un array di chiavi, in questo caso il risultato sarà sempre un DataFrame, è possibile distinguere DataFrame da Series guardando alla presenza di un header."
      ]
    },
    {
      "cell_type": "code",
      "metadata": {
        "colab": {
          "base_uri": "https://localhost:8080/",
          "height": 221
        },
        "id": "hxX6yyu61_Nb",
        "outputId": "b7f97468-5479-4616-9e52-99528d24dc39"
      },
      "source": [
        "X = df[[\"altezza\",\"peso\"]] \n",
        "print(type(X))\n",
        "X.head()"
      ],
      "execution_count": null,
      "outputs": [
        {
          "output_type": "stream",
          "text": [
            "<class 'pandas.core.frame.DataFrame'>\n"
          ],
          "name": "stdout"
        },
        {
          "output_type": "execute_result",
          "data": {
            "text/html": [
              "<div>\n",
              "<style scoped>\n",
              "    .dataframe tbody tr th:only-of-type {\n",
              "        vertical-align: middle;\n",
              "    }\n",
              "\n",
              "    .dataframe tbody tr th {\n",
              "        vertical-align: top;\n",
              "    }\n",
              "\n",
              "    .dataframe thead th {\n",
              "        text-align: right;\n",
              "    }\n",
              "</style>\n",
              "<table border=\"1\" class=\"dataframe\">\n",
              "  <thead>\n",
              "    <tr style=\"text-align: right;\">\n",
              "      <th></th>\n",
              "      <th>altezza</th>\n",
              "      <th>peso</th>\n",
              "    </tr>\n",
              "  </thead>\n",
              "  <tbody>\n",
              "    <tr>\n",
              "      <th>0</th>\n",
              "      <td>177</td>\n",
              "      <td>72.5</td>\n",
              "    </tr>\n",
              "    <tr>\n",
              "      <th>1</th>\n",
              "      <td>181</td>\n",
              "      <td>80.2</td>\n",
              "    </tr>\n",
              "    <tr>\n",
              "      <th>2</th>\n",
              "      <td>158</td>\n",
              "      <td>48.3</td>\n",
              "    </tr>\n",
              "    <tr>\n",
              "      <th>3</th>\n",
              "      <td>171</td>\n",
              "      <td>56.8</td>\n",
              "    </tr>\n",
              "    <tr>\n",
              "      <th>4</th>\n",
              "      <td>188</td>\n",
              "      <td>91.2</td>\n",
              "    </tr>\n",
              "  </tbody>\n",
              "</table>\n",
              "</div>"
            ],
            "text/plain": [
              "   altezza  peso\n",
              "0      177  72.5\n",
              "1      181  80.2\n",
              "2      158  48.3\n",
              "3      171  56.8\n",
              "4      188  91.2"
            ]
          },
          "metadata": {
            "tags": []
          },
          "execution_count": 11
        }
      ]
    },
    {
      "cell_type": "markdown",
      "metadata": {
        "id": "J4DP9jdbwLWJ"
      },
      "source": [
        "### Caricamento del DataFrame da csv\n",
        "Pandas può caricare un dataset da diversi formati all'interno di una speciale struttura dati tabulare chiamata DataFrame."
      ]
    },
    {
      "cell_type": "code",
      "metadata": {
        "id": "IOMrc9GlwLWK",
        "colab": {
          "base_uri": "https://localhost:8080/",
          "height": 205
        },
        "outputId": "87cfc063-e180-4128-d58e-cdf8e8445379"
      },
      "source": [
        "iris = pd.read_csv(\"https://raw.githubusercontent.com/ProfAI/ml00/master/2%20-%20Datasets%20e%20data%20preprocessing/data/iris.csv\")\n",
        "iris.head() #mostra le prime 5 entry del dataset\n",
        "#iris.head(10) #mostra le prima 10 entry del dataset\n",
        "#iris.tail() #mostra le ultime 5 entry del dataset"
      ],
      "execution_count": null,
      "outputs": [
        {
          "output_type": "execute_result",
          "data": {
            "text/html": [
              "<div>\n",
              "<style scoped>\n",
              "    .dataframe tbody tr th:only-of-type {\n",
              "        vertical-align: middle;\n",
              "    }\n",
              "\n",
              "    .dataframe tbody tr th {\n",
              "        vertical-align: top;\n",
              "    }\n",
              "\n",
              "    .dataframe thead th {\n",
              "        text-align: right;\n",
              "    }\n",
              "</style>\n",
              "<table border=\"1\" class=\"dataframe\">\n",
              "  <thead>\n",
              "    <tr style=\"text-align: right;\">\n",
              "      <th></th>\n",
              "      <th>sepal_length</th>\n",
              "      <th>sepal_width</th>\n",
              "      <th>petal_length</th>\n",
              "      <th>petal_width</th>\n",
              "      <th>species</th>\n",
              "    </tr>\n",
              "  </thead>\n",
              "  <tbody>\n",
              "    <tr>\n",
              "      <th>0</th>\n",
              "      <td>5.1</td>\n",
              "      <td>3.5</td>\n",
              "      <td>1.4</td>\n",
              "      <td>0.2</td>\n",
              "      <td>setosa</td>\n",
              "    </tr>\n",
              "    <tr>\n",
              "      <th>1</th>\n",
              "      <td>4.9</td>\n",
              "      <td>3.0</td>\n",
              "      <td>1.4</td>\n",
              "      <td>0.2</td>\n",
              "      <td>setosa</td>\n",
              "    </tr>\n",
              "    <tr>\n",
              "      <th>2</th>\n",
              "      <td>4.7</td>\n",
              "      <td>3.2</td>\n",
              "      <td>1.3</td>\n",
              "      <td>0.2</td>\n",
              "      <td>setosa</td>\n",
              "    </tr>\n",
              "    <tr>\n",
              "      <th>3</th>\n",
              "      <td>4.6</td>\n",
              "      <td>3.1</td>\n",
              "      <td>1.5</td>\n",
              "      <td>0.2</td>\n",
              "      <td>setosa</td>\n",
              "    </tr>\n",
              "    <tr>\n",
              "      <th>4</th>\n",
              "      <td>5.0</td>\n",
              "      <td>3.6</td>\n",
              "      <td>1.4</td>\n",
              "      <td>0.2</td>\n",
              "      <td>setosa</td>\n",
              "    </tr>\n",
              "  </tbody>\n",
              "</table>\n",
              "</div>"
            ],
            "text/plain": [
              "   sepal_length  sepal_width  petal_length  petal_width species\n",
              "0           5.1          3.5           1.4          0.2  setosa\n",
              "1           4.9          3.0           1.4          0.2  setosa\n",
              "2           4.7          3.2           1.3          0.2  setosa\n",
              "3           4.6          3.1           1.5          0.2  setosa\n",
              "4           5.0          3.6           1.4          0.2  setosa"
            ]
          },
          "metadata": {
            "tags": []
          },
          "execution_count": 3
        }
      ]
    },
    {
      "cell_type": "markdown",
      "metadata": {
        "id": "z4y_gOKtwLWM"
      },
      "source": [
        "Il metodo read rileva automaticamente i nomi delle features, se questi sono specificati nella prima riga del file, e il carattere separatore (la virgola per un file CSV).\n",
        "Possiamo sovrascrivere questi attributi utilizzando i parametri header, names e sep:\n",
        "* **header**: Indica da quale riga del file trarre i nomi delle features\n",
        "* **names**: Possiamo utilizzarlo per definire manualmente i nomi delle proprietà tramite un dizionario\n",
        "* **sep**: Indica il carattere che separa le features all'interno del file."
      ]
    },
    {
      "cell_type": "markdown",
      "metadata": {
        "id": "LFKthWf7wLWP"
      },
      "source": [
        "Per vedere l'elenco delle features possiamo usare l'attributo columns"
      ]
    },
    {
      "cell_type": "code",
      "metadata": {
        "id": "diA_zvDgwLWQ",
        "colab": {
          "base_uri": "https://localhost:8080/"
        },
        "outputId": "0fc36d2d-8fd3-4893-a78f-aaf62fbaa907"
      },
      "source": [
        "iris.columns"
      ],
      "execution_count": null,
      "outputs": [
        {
          "output_type": "execute_result",
          "data": {
            "text/plain": [
              "Index(['sepal_length', 'sepal_width', 'petal_length', 'petal_width',\n",
              "       'species'],\n",
              "      dtype='object')"
            ]
          },
          "metadata": {
            "tags": []
          },
          "execution_count": 8
        }
      ]
    },
    {
      "cell_type": "markdown",
      "metadata": {
        "id": "TJLl9INQwLWR"
      },
      "source": [
        "Utilizzando il metodo info possiamo ottenere una serie di informazioni sul DataFrame e sui tipi di dati di ogni colonna"
      ]
    },
    {
      "cell_type": "code",
      "metadata": {
        "id": "2pfxAM4awLWS",
        "colab": {
          "base_uri": "https://localhost:8080/"
        },
        "outputId": "ff21af55-8dd2-459b-9969-262c42f0472b"
      },
      "source": [
        "iris.info()"
      ],
      "execution_count": null,
      "outputs": [
        {
          "output_type": "stream",
          "text": [
            "<class 'pandas.core.frame.DataFrame'>\n",
            "RangeIndex: 150 entries, 0 to 149\n",
            "Data columns (total 5 columns):\n",
            " #   Column        Non-Null Count  Dtype  \n",
            "---  ------        --------------  -----  \n",
            " 0   sepal_length  150 non-null    float64\n",
            " 1   sepal_width   150 non-null    float64\n",
            " 2   petal_length  150 non-null    float64\n",
            " 3   petal_width   150 non-null    float64\n",
            " 4   species       150 non-null    object \n",
            "dtypes: float64(4), object(1)\n",
            "memory usage: 6.0+ KB\n"
          ],
          "name": "stdout"
        }
      ]
    },
    {
      "cell_type": "markdown",
      "metadata": {
        "id": "WBteY5-3wLWV"
      },
      "source": [
        "In quest'ultimo esempio abbiamo escluso solamente la colonna con la specie, un modo migliore di farlo sarebbe stato utilizzare l'attributo drop."
      ]
    },
    {
      "cell_type": "code",
      "metadata": {
        "id": "YkLwQAyMwLWV",
        "outputId": "ece46864-9350-41e9-98df-8de42ed79a5b"
      },
      "source": [
        "X = iris.drop('species',axis=1)\n",
        "X.head()"
      ],
      "execution_count": null,
      "outputs": [
        {
          "output_type": "execute_result",
          "data": {
            "text/html": [
              "<div>\n",
              "<style scoped>\n",
              "    .dataframe tbody tr th:only-of-type {\n",
              "        vertical-align: middle;\n",
              "    }\n",
              "\n",
              "    .dataframe tbody tr th {\n",
              "        vertical-align: top;\n",
              "    }\n",
              "\n",
              "    .dataframe thead th {\n",
              "        text-align: right;\n",
              "    }\n",
              "</style>\n",
              "<table border=\"1\" class=\"dataframe\">\n",
              "  <thead>\n",
              "    <tr style=\"text-align: right;\">\n",
              "      <th></th>\n",
              "      <th>sepal_length</th>\n",
              "      <th>sepal_width</th>\n",
              "      <th>petal_length</th>\n",
              "      <th>petal_width</th>\n",
              "    </tr>\n",
              "  </thead>\n",
              "  <tbody>\n",
              "    <tr>\n",
              "      <th>0</th>\n",
              "      <td>5.1</td>\n",
              "      <td>3.5</td>\n",
              "      <td>1.4</td>\n",
              "      <td>0.2</td>\n",
              "    </tr>\n",
              "    <tr>\n",
              "      <th>1</th>\n",
              "      <td>4.9</td>\n",
              "      <td>3.0</td>\n",
              "      <td>1.4</td>\n",
              "      <td>0.2</td>\n",
              "    </tr>\n",
              "    <tr>\n",
              "      <th>2</th>\n",
              "      <td>4.7</td>\n",
              "      <td>3.2</td>\n",
              "      <td>1.3</td>\n",
              "      <td>0.2</td>\n",
              "    </tr>\n",
              "    <tr>\n",
              "      <th>3</th>\n",
              "      <td>4.6</td>\n",
              "      <td>3.1</td>\n",
              "      <td>1.5</td>\n",
              "      <td>0.2</td>\n",
              "    </tr>\n",
              "    <tr>\n",
              "      <th>4</th>\n",
              "      <td>5.0</td>\n",
              "      <td>3.6</td>\n",
              "      <td>1.4</td>\n",
              "      <td>0.2</td>\n",
              "    </tr>\n",
              "  </tbody>\n",
              "</table>\n",
              "</div>"
            ],
            "text/plain": [
              "   sepal_length  sepal_width  petal_length  petal_width\n",
              "0           5.1          3.5           1.4          0.2\n",
              "1           4.9          3.0           1.4          0.2\n",
              "2           4.7          3.2           1.3          0.2\n",
              "3           4.6          3.1           1.5          0.2\n",
              "4           5.0          3.6           1.4          0.2"
            ]
          },
          "metadata": {
            "tags": []
          },
          "execution_count": 10
        }
      ]
    },
    {
      "cell_type": "markdown",
      "metadata": {
        "id": "FLF8aeB0wLWV"
      },
      "source": [
        "**NOTA BENE** il parametro axis=1 indica di eseguire il drop lungo le colonne, che ha senso dato che vogiamo rimuovere una features."
      ]
    },
    {
      "cell_type": "markdown",
      "metadata": {
        "id": "l5anCMdawLWV"
      },
      "source": [
        "## Selezione e modifica dei dati"
      ]
    },
    {
      "cell_type": "markdown",
      "metadata": {
        "id": "dZCc3igzwLWV"
      },
      "source": [
        "Per effettuare lo slicing dei dati, ovver selezionare solo alcune righe e/o colonne di un Dataframe o Series puoi utilizzare i metodo loc o iloc. \n",
        "In passato veniva utilizzato anche il metodo ix, ma è stato deprecato a partire dalla versione 0.20 di Pandas.<br>"
      ]
    },
    {
      "cell_type": "code",
      "metadata": {
        "id": "1QfPEMCuwLWW",
        "outputId": "b58d21d7-fc4c-4eb3-fd76-105895dbf7e3"
      },
      "source": [
        "iris.loc[10] #seleziona la riga con l'indice 10 del dataset"
      ],
      "execution_count": null,
      "outputs": [
        {
          "output_type": "execute_result",
          "data": {
            "text/plain": [
              "sepal_length       5.4\n",
              "sepal_width        3.7\n",
              "petal_length       1.5\n",
              "petal_width        0.2\n",
              "species         setosa\n",
              "Name: 10, dtype: object"
            ]
          },
          "metadata": {
            "tags": []
          },
          "execution_count": 233
        }
      ]
    },
    {
      "cell_type": "code",
      "metadata": {
        "colab": {
          "base_uri": "https://localhost:8080/"
        },
        "id": "RlFOafAP3BZ-",
        "outputId": "e9676830-8631-4aae-b49c-255867577398"
      },
      "source": [
        "iris.iloc[10] #seleziona la riga alla posizione 10§"
      ],
      "execution_count": null,
      "outputs": [
        {
          "output_type": "execute_result",
          "data": {
            "text/plain": [
              "sepal_length       5.4\n",
              "sepal_width        3.7\n",
              "petal_length       1.5\n",
              "petal_width        0.2\n",
              "species         setosa\n",
              "Name: 10, dtype: object"
            ]
          },
          "metadata": {
            "tags": []
          },
          "execution_count": 14
        }
      ]
    },
    {
      "cell_type": "markdown",
      "metadata": {
        "id": "RuEdkCLe3IE9"
      },
      "source": [
        "Il risultato sembra essere lo stesso, quindi che differenza c'è tra loc e iloc? La differenza è sottile ma molto importante:\n",
        " - **loc** effettua la selezione utilizzando l'indice dell'osservazione\n",
        " - **iloc** effettua la selezione utilizzando l'indice della riga\n",
        "\n",
        "\n",
        "Indice dell'osservazione e indice della riga non sempre sono uguali, per dimostrarlo diamo una bella shakerata al dataframe usando il metodo sample"
      ]
    },
    {
      "cell_type": "code",
      "metadata": {
        "id": "UlE1WglywLWY",
        "colab": {
          "base_uri": "https://localhost:8080/",
          "height": 204
        },
        "outputId": "46f15460-fc57-4c26-a170-5991b553f107"
      },
      "source": [
        "iris_sampled = iris.sample(frac=1, random_state=0) #con il parametro frac=1 mescoliamo l'intero DataFrame, per mescolare solo n valori utilizzare il parametro n\n",
        "iris_sampled.head()"
      ],
      "execution_count": null,
      "outputs": [
        {
          "output_type": "execute_result",
          "data": {
            "text/html": [
              "<div>\n",
              "<style scoped>\n",
              "    .dataframe tbody tr th:only-of-type {\n",
              "        vertical-align: middle;\n",
              "    }\n",
              "\n",
              "    .dataframe tbody tr th {\n",
              "        vertical-align: top;\n",
              "    }\n",
              "\n",
              "    .dataframe thead th {\n",
              "        text-align: right;\n",
              "    }\n",
              "</style>\n",
              "<table border=\"1\" class=\"dataframe\">\n",
              "  <thead>\n",
              "    <tr style=\"text-align: right;\">\n",
              "      <th></th>\n",
              "      <th>sepal_length</th>\n",
              "      <th>sepal_width</th>\n",
              "      <th>petal_length</th>\n",
              "      <th>petal_width</th>\n",
              "      <th>species</th>\n",
              "    </tr>\n",
              "  </thead>\n",
              "  <tbody>\n",
              "    <tr>\n",
              "      <th>114</th>\n",
              "      <td>5.8</td>\n",
              "      <td>2.8</td>\n",
              "      <td>5.1</td>\n",
              "      <td>2.4</td>\n",
              "      <td>virginica</td>\n",
              "    </tr>\n",
              "    <tr>\n",
              "      <th>62</th>\n",
              "      <td>6.0</td>\n",
              "      <td>2.2</td>\n",
              "      <td>4.0</td>\n",
              "      <td>1.0</td>\n",
              "      <td>versicolor</td>\n",
              "    </tr>\n",
              "    <tr>\n",
              "      <th>33</th>\n",
              "      <td>5.5</td>\n",
              "      <td>4.2</td>\n",
              "      <td>1.4</td>\n",
              "      <td>0.2</td>\n",
              "      <td>setosa</td>\n",
              "    </tr>\n",
              "    <tr>\n",
              "      <th>107</th>\n",
              "      <td>7.3</td>\n",
              "      <td>2.9</td>\n",
              "      <td>6.3</td>\n",
              "      <td>1.8</td>\n",
              "      <td>virginica</td>\n",
              "    </tr>\n",
              "    <tr>\n",
              "      <th>7</th>\n",
              "      <td>5.0</td>\n",
              "      <td>3.4</td>\n",
              "      <td>1.5</td>\n",
              "      <td>0.2</td>\n",
              "      <td>setosa</td>\n",
              "    </tr>\n",
              "  </tbody>\n",
              "</table>\n",
              "</div>"
            ],
            "text/plain": [
              "     sepal_length  sepal_width  petal_length  petal_width     species\n",
              "114           5.8          2.8           5.1          2.4   virginica\n",
              "62            6.0          2.2           4.0          1.0  versicolor\n",
              "33            5.5          4.2           1.4          0.2      setosa\n",
              "107           7.3          2.9           6.3          1.8   virginica\n",
              "7             5.0          3.4           1.5          0.2      setosa"
            ]
          },
          "metadata": {
            "tags": []
          },
          "execution_count": 15
        }
      ]
    },
    {
      "cell_type": "markdown",
      "metadata": {
        "id": "-4nkEmlUwLWY"
      },
      "source": [
        "Alla riga 0 adesso abbiamo l'osservazione 114"
      ]
    },
    {
      "cell_type": "code",
      "metadata": {
        "id": "COGDEcqWwLWZ",
        "colab": {
          "base_uri": "https://localhost:8080/"
        },
        "outputId": "e3f44a0a-4ee5-41e3-c2a4-a40dd0704681"
      },
      "source": [
        "iris_sampled.loc[114]"
      ],
      "execution_count": null,
      "outputs": [
        {
          "output_type": "execute_result",
          "data": {
            "text/plain": [
              "sepal_length          5.8\n",
              "sepal_width           2.8\n",
              "petal_length          5.1\n",
              "petal_width           2.4\n",
              "species         virginica\n",
              "Name: 114, dtype: object"
            ]
          },
          "metadata": {
            "tags": []
          },
          "execution_count": 16
        }
      ]
    },
    {
      "cell_type": "markdown",
      "metadata": {
        "id": "4ohdAWFTwLWZ"
      },
      "source": [
        "Mentre, trovandosi alla posizione 0 del DataFrame, per ottenerla tramite iloc dobbiamo usare l'indice 0"
      ]
    },
    {
      "cell_type": "code",
      "metadata": {
        "id": "o8ZXaZfdwLWZ",
        "colab": {
          "base_uri": "https://localhost:8080/"
        },
        "outputId": "126d1972-1df1-413d-aeb9-86692f12d24d"
      },
      "source": [
        "iris_sampled.iloc[0]"
      ],
      "execution_count": null,
      "outputs": [
        {
          "output_type": "execute_result",
          "data": {
            "text/plain": [
              "sepal_length          5.8\n",
              "sepal_width           2.8\n",
              "petal_length          5.1\n",
              "petal_width           2.4\n",
              "species         virginica\n",
              "Name: 114, dtype: object"
            ]
          },
          "metadata": {
            "tags": []
          },
          "execution_count": 17
        }
      ]
    },
    {
      "cell_type": "markdown",
      "metadata": {
        "id": "OcjV_qAh4Z4P"
      },
      "source": [
        "Sia con loc che con iloc possiamo eseguire lo slicing"
      ]
    },
    {
      "cell_type": "code",
      "metadata": {
        "colab": {
          "base_uri": "https://localhost:8080/",
          "height": 235
        },
        "id": "rX9GLYnJ4x7H",
        "outputId": "b9bfa874-1cb7-4c7c-ec8b-5b53a4c893d7"
      },
      "source": [
        "iris.loc[:5]\n",
        "#iris.iloc[:5]"
      ],
      "execution_count": null,
      "outputs": [
        {
          "output_type": "execute_result",
          "data": {
            "text/html": [
              "<div>\n",
              "<style scoped>\n",
              "    .dataframe tbody tr th:only-of-type {\n",
              "        vertical-align: middle;\n",
              "    }\n",
              "\n",
              "    .dataframe tbody tr th {\n",
              "        vertical-align: top;\n",
              "    }\n",
              "\n",
              "    .dataframe thead th {\n",
              "        text-align: right;\n",
              "    }\n",
              "</style>\n",
              "<table border=\"1\" class=\"dataframe\">\n",
              "  <thead>\n",
              "    <tr style=\"text-align: right;\">\n",
              "      <th></th>\n",
              "      <th>sepal_length</th>\n",
              "      <th>sepal_width</th>\n",
              "      <th>petal_length</th>\n",
              "      <th>petal_width</th>\n",
              "      <th>species</th>\n",
              "    </tr>\n",
              "  </thead>\n",
              "  <tbody>\n",
              "    <tr>\n",
              "      <th>0</th>\n",
              "      <td>5.1</td>\n",
              "      <td>3.5</td>\n",
              "      <td>1.4</td>\n",
              "      <td>0.2</td>\n",
              "      <td>setosa</td>\n",
              "    </tr>\n",
              "    <tr>\n",
              "      <th>1</th>\n",
              "      <td>4.9</td>\n",
              "      <td>3.0</td>\n",
              "      <td>1.4</td>\n",
              "      <td>0.2</td>\n",
              "      <td>setosa</td>\n",
              "    </tr>\n",
              "    <tr>\n",
              "      <th>2</th>\n",
              "      <td>4.7</td>\n",
              "      <td>3.2</td>\n",
              "      <td>1.3</td>\n",
              "      <td>0.2</td>\n",
              "      <td>setosa</td>\n",
              "    </tr>\n",
              "    <tr>\n",
              "      <th>3</th>\n",
              "      <td>4.6</td>\n",
              "      <td>3.1</td>\n",
              "      <td>1.5</td>\n",
              "      <td>0.2</td>\n",
              "      <td>setosa</td>\n",
              "    </tr>\n",
              "    <tr>\n",
              "      <th>4</th>\n",
              "      <td>5.0</td>\n",
              "      <td>3.6</td>\n",
              "      <td>1.4</td>\n",
              "      <td>0.2</td>\n",
              "      <td>setosa</td>\n",
              "    </tr>\n",
              "    <tr>\n",
              "      <th>5</th>\n",
              "      <td>5.4</td>\n",
              "      <td>3.9</td>\n",
              "      <td>1.7</td>\n",
              "      <td>0.4</td>\n",
              "      <td>setosa</td>\n",
              "    </tr>\n",
              "  </tbody>\n",
              "</table>\n",
              "</div>"
            ],
            "text/plain": [
              "   sepal_length  sepal_width  petal_length  petal_width species\n",
              "0           5.1          3.5           1.4          0.2  setosa\n",
              "1           4.9          3.0           1.4          0.2  setosa\n",
              "2           4.7          3.2           1.3          0.2  setosa\n",
              "3           4.6          3.1           1.5          0.2  setosa\n",
              "4           5.0          3.6           1.4          0.2  setosa\n",
              "5           5.4          3.9           1.7          0.4  setosa"
            ]
          },
          "metadata": {
            "tags": []
          },
          "execution_count": 18
        }
      ]
    },
    {
      "cell_type": "markdown",
      "metadata": {
        "id": "MwDkjba3453J"
      },
      "source": [
        "e anche selezionare solo determinate colonne"
      ]
    },
    {
      "cell_type": "code",
      "metadata": {
        "colab": {
          "base_uri": "https://localhost:8080/"
        },
        "id": "PdxK2pmu41yz",
        "outputId": "a499bf41-6538-4133-db57-9199952df78a"
      },
      "source": [
        "iris.loc[:5,'petal_length']"
      ],
      "execution_count": null,
      "outputs": [
        {
          "output_type": "execute_result",
          "data": {
            "text/plain": [
              "0    1.4\n",
              "1    1.4\n",
              "2    1.3\n",
              "3    1.5\n",
              "4    1.4\n",
              "5    1.7\n",
              "Name: petal_length, dtype: float64"
            ]
          },
          "metadata": {
            "tags": []
          },
          "execution_count": 19
        }
      ]
    },
    {
      "cell_type": "code",
      "metadata": {
        "colab": {
          "base_uri": "https://localhost:8080/",
          "height": 235
        },
        "id": "m-cn3e6C4-8d",
        "outputId": "bd3ae51a-05fe-4b5b-ce20-5be05a5b08c0"
      },
      "source": [
        "iris.loc[:5,['petal_length', 'petal_width']]"
      ],
      "execution_count": null,
      "outputs": [
        {
          "output_type": "execute_result",
          "data": {
            "text/html": [
              "<div>\n",
              "<style scoped>\n",
              "    .dataframe tbody tr th:only-of-type {\n",
              "        vertical-align: middle;\n",
              "    }\n",
              "\n",
              "    .dataframe tbody tr th {\n",
              "        vertical-align: top;\n",
              "    }\n",
              "\n",
              "    .dataframe thead th {\n",
              "        text-align: right;\n",
              "    }\n",
              "</style>\n",
              "<table border=\"1\" class=\"dataframe\">\n",
              "  <thead>\n",
              "    <tr style=\"text-align: right;\">\n",
              "      <th></th>\n",
              "      <th>petal_length</th>\n",
              "      <th>petal_width</th>\n",
              "    </tr>\n",
              "  </thead>\n",
              "  <tbody>\n",
              "    <tr>\n",
              "      <th>0</th>\n",
              "      <td>1.4</td>\n",
              "      <td>0.2</td>\n",
              "    </tr>\n",
              "    <tr>\n",
              "      <th>1</th>\n",
              "      <td>1.4</td>\n",
              "      <td>0.2</td>\n",
              "    </tr>\n",
              "    <tr>\n",
              "      <th>2</th>\n",
              "      <td>1.3</td>\n",
              "      <td>0.2</td>\n",
              "    </tr>\n",
              "    <tr>\n",
              "      <th>3</th>\n",
              "      <td>1.5</td>\n",
              "      <td>0.2</td>\n",
              "    </tr>\n",
              "    <tr>\n",
              "      <th>4</th>\n",
              "      <td>1.4</td>\n",
              "      <td>0.2</td>\n",
              "    </tr>\n",
              "    <tr>\n",
              "      <th>5</th>\n",
              "      <td>1.7</td>\n",
              "      <td>0.4</td>\n",
              "    </tr>\n",
              "  </tbody>\n",
              "</table>\n",
              "</div>"
            ],
            "text/plain": [
              "   petal_length  petal_width\n",
              "0           1.4          0.2\n",
              "1           1.4          0.2\n",
              "2           1.3          0.2\n",
              "3           1.5          0.2\n",
              "4           1.4          0.2\n",
              "5           1.7          0.4"
            ]
          },
          "metadata": {
            "tags": []
          },
          "execution_count": 21
        }
      ]
    },
    {
      "cell_type": "markdown",
      "metadata": {
        "id": "IsvmGr2BwLWZ"
      },
      "source": [
        "Possiamo utilizzare loc ed iloc anche per modificare righe, colonne o valori singoli."
      ]
    },
    {
      "cell_type": "code",
      "metadata": {
        "id": "mchXcpMfwLWa",
        "outputId": "2764264d-4181-4be4-bd0c-d2c329c606f8"
      },
      "source": [
        "iris_copy = iris.copy() #Utilizziamo copy per non modificare il DataFrame originale\n",
        "iris_copy.loc[:5,'petal_length'] = 0 #Impostiamo a 0 i valori della lunghezza dei petali per le osservazioni dall'indice 0 al 5\n",
        "iris_copy.head(10)"
      ],
      "execution_count": null,
      "outputs": [
        {
          "output_type": "execute_result",
          "data": {
            "text/html": [
              "<div>\n",
              "<style scoped>\n",
              "    .dataframe tbody tr th:only-of-type {\n",
              "        vertical-align: middle;\n",
              "    }\n",
              "\n",
              "    .dataframe tbody tr th {\n",
              "        vertical-align: top;\n",
              "    }\n",
              "\n",
              "    .dataframe thead th {\n",
              "        text-align: right;\n",
              "    }\n",
              "</style>\n",
              "<table border=\"1\" class=\"dataframe\">\n",
              "  <thead>\n",
              "    <tr style=\"text-align: right;\">\n",
              "      <th></th>\n",
              "      <th>sepal_length</th>\n",
              "      <th>sepal_width</th>\n",
              "      <th>petal_length</th>\n",
              "      <th>petal_width</th>\n",
              "      <th>species</th>\n",
              "    </tr>\n",
              "  </thead>\n",
              "  <tbody>\n",
              "    <tr>\n",
              "      <th>0</th>\n",
              "      <td>5.1</td>\n",
              "      <td>3.5</td>\n",
              "      <td>0.0</td>\n",
              "      <td>0.2</td>\n",
              "      <td>setosa</td>\n",
              "    </tr>\n",
              "    <tr>\n",
              "      <th>1</th>\n",
              "      <td>4.9</td>\n",
              "      <td>3.0</td>\n",
              "      <td>0.0</td>\n",
              "      <td>0.2</td>\n",
              "      <td>setosa</td>\n",
              "    </tr>\n",
              "    <tr>\n",
              "      <th>2</th>\n",
              "      <td>4.7</td>\n",
              "      <td>3.2</td>\n",
              "      <td>0.0</td>\n",
              "      <td>0.2</td>\n",
              "      <td>setosa</td>\n",
              "    </tr>\n",
              "    <tr>\n",
              "      <th>3</th>\n",
              "      <td>4.6</td>\n",
              "      <td>3.1</td>\n",
              "      <td>0.0</td>\n",
              "      <td>0.2</td>\n",
              "      <td>setosa</td>\n",
              "    </tr>\n",
              "    <tr>\n",
              "      <th>4</th>\n",
              "      <td>5.0</td>\n",
              "      <td>3.6</td>\n",
              "      <td>0.0</td>\n",
              "      <td>0.2</td>\n",
              "      <td>setosa</td>\n",
              "    </tr>\n",
              "    <tr>\n",
              "      <th>5</th>\n",
              "      <td>5.4</td>\n",
              "      <td>3.9</td>\n",
              "      <td>0.0</td>\n",
              "      <td>0.4</td>\n",
              "      <td>setosa</td>\n",
              "    </tr>\n",
              "    <tr>\n",
              "      <th>6</th>\n",
              "      <td>4.6</td>\n",
              "      <td>3.4</td>\n",
              "      <td>1.4</td>\n",
              "      <td>0.3</td>\n",
              "      <td>setosa</td>\n",
              "    </tr>\n",
              "    <tr>\n",
              "      <th>7</th>\n",
              "      <td>5.0</td>\n",
              "      <td>3.4</td>\n",
              "      <td>1.5</td>\n",
              "      <td>0.2</td>\n",
              "      <td>setosa</td>\n",
              "    </tr>\n",
              "    <tr>\n",
              "      <th>8</th>\n",
              "      <td>4.4</td>\n",
              "      <td>2.9</td>\n",
              "      <td>1.4</td>\n",
              "      <td>0.2</td>\n",
              "      <td>setosa</td>\n",
              "    </tr>\n",
              "    <tr>\n",
              "      <th>9</th>\n",
              "      <td>4.9</td>\n",
              "      <td>3.1</td>\n",
              "      <td>1.5</td>\n",
              "      <td>0.1</td>\n",
              "      <td>setosa</td>\n",
              "    </tr>\n",
              "  </tbody>\n",
              "</table>\n",
              "</div>"
            ],
            "text/plain": [
              "   sepal_length  sepal_width  petal_length  petal_width species\n",
              "0           5.1          3.5           0.0          0.2  setosa\n",
              "1           4.9          3.0           0.0          0.2  setosa\n",
              "2           4.7          3.2           0.0          0.2  setosa\n",
              "3           4.6          3.1           0.0          0.2  setosa\n",
              "4           5.0          3.6           0.0          0.2  setosa\n",
              "5           5.4          3.9           0.0          0.4  setosa\n",
              "6           4.6          3.4           1.4          0.3  setosa\n",
              "7           5.0          3.4           1.5          0.2  setosa\n",
              "8           4.4          2.9           1.4          0.2  setosa\n",
              "9           4.9          3.1           1.5          0.1  setosa"
            ]
          },
          "metadata": {
            "tags": []
          },
          "execution_count": 249
        }
      ]
    },
    {
      "cell_type": "markdown",
      "metadata": {
        "id": "H0aJcQLvwLWa"
      },
      "source": [
        "## Statistiche sui dati"
      ]
    },
    {
      "cell_type": "markdown",
      "metadata": {
        "id": "sJCJjjq4wLWa"
      },
      "source": [
        "Con l'attributo shape possiamo accedere alla dimensione del dataset."
      ]
    },
    {
      "cell_type": "code",
      "metadata": {
        "id": "1C_TfKZJwLWb",
        "colab": {
          "base_uri": "https://localhost:8080/"
        },
        "outputId": "244363da-95df-4f25-d79b-abf41bee3a98"
      },
      "source": [
        "iris.shape"
      ],
      "execution_count": null,
      "outputs": [
        {
          "output_type": "execute_result",
          "data": {
            "text/plain": [
              "(150, 5)"
            ]
          },
          "metadata": {
            "tags": []
          },
          "execution_count": 22
        }
      ]
    },
    {
      "cell_type": "markdown",
      "metadata": {
        "id": "RWssjOw4wLWb"
      },
      "source": [
        "Con il metodo describe possiamo ottenere alcune informazioni statistiche sul DataFrame"
      ]
    },
    {
      "cell_type": "code",
      "metadata": {
        "id": "sU_kyH5gwLWb",
        "outputId": "28104fc1-fe8b-4107-af19-ec5f08d5ff43"
      },
      "source": [
        "iris.describe()"
      ],
      "execution_count": null,
      "outputs": [
        {
          "output_type": "execute_result",
          "data": {
            "text/html": [
              "<div>\n",
              "<style scoped>\n",
              "    .dataframe tbody tr th:only-of-type {\n",
              "        vertical-align: middle;\n",
              "    }\n",
              "\n",
              "    .dataframe tbody tr th {\n",
              "        vertical-align: top;\n",
              "    }\n",
              "\n",
              "    .dataframe thead th {\n",
              "        text-align: right;\n",
              "    }\n",
              "</style>\n",
              "<table border=\"1\" class=\"dataframe\">\n",
              "  <thead>\n",
              "    <tr style=\"text-align: right;\">\n",
              "      <th></th>\n",
              "      <th>sepal_length</th>\n",
              "      <th>sepal_width</th>\n",
              "      <th>petal_length</th>\n",
              "      <th>petal_width</th>\n",
              "    </tr>\n",
              "  </thead>\n",
              "  <tbody>\n",
              "    <tr>\n",
              "      <th>count</th>\n",
              "      <td>150.000000</td>\n",
              "      <td>150.000000</td>\n",
              "      <td>150.000000</td>\n",
              "      <td>150.000000</td>\n",
              "    </tr>\n",
              "    <tr>\n",
              "      <th>mean</th>\n",
              "      <td>5.843333</td>\n",
              "      <td>3.054000</td>\n",
              "      <td>3.758667</td>\n",
              "      <td>1.198667</td>\n",
              "    </tr>\n",
              "    <tr>\n",
              "      <th>std</th>\n",
              "      <td>0.828066</td>\n",
              "      <td>0.433594</td>\n",
              "      <td>1.764420</td>\n",
              "      <td>0.763161</td>\n",
              "    </tr>\n",
              "    <tr>\n",
              "      <th>min</th>\n",
              "      <td>4.300000</td>\n",
              "      <td>2.000000</td>\n",
              "      <td>1.000000</td>\n",
              "      <td>0.100000</td>\n",
              "    </tr>\n",
              "    <tr>\n",
              "      <th>25%</th>\n",
              "      <td>5.100000</td>\n",
              "      <td>2.800000</td>\n",
              "      <td>1.600000</td>\n",
              "      <td>0.300000</td>\n",
              "    </tr>\n",
              "    <tr>\n",
              "      <th>50%</th>\n",
              "      <td>5.800000</td>\n",
              "      <td>3.000000</td>\n",
              "      <td>4.350000</td>\n",
              "      <td>1.300000</td>\n",
              "    </tr>\n",
              "    <tr>\n",
              "      <th>75%</th>\n",
              "      <td>6.400000</td>\n",
              "      <td>3.300000</td>\n",
              "      <td>5.100000</td>\n",
              "      <td>1.800000</td>\n",
              "    </tr>\n",
              "    <tr>\n",
              "      <th>max</th>\n",
              "      <td>7.900000</td>\n",
              "      <td>4.400000</td>\n",
              "      <td>6.900000</td>\n",
              "      <td>2.500000</td>\n",
              "    </tr>\n",
              "  </tbody>\n",
              "</table>\n",
              "</div>"
            ],
            "text/plain": [
              "       sepal_length  sepal_width  petal_length  petal_width\n",
              "count    150.000000   150.000000    150.000000   150.000000\n",
              "mean       5.843333     3.054000      3.758667     1.198667\n",
              "std        0.828066     0.433594      1.764420     0.763161\n",
              "min        4.300000     2.000000      1.000000     0.100000\n",
              "25%        5.100000     2.800000      1.600000     0.300000\n",
              "50%        5.800000     3.000000      4.350000     1.300000\n",
              "75%        6.400000     3.300000      5.100000     1.800000\n",
              "max        7.900000     4.400000      6.900000     2.500000"
            ]
          },
          "metadata": {
            "tags": []
          },
          "execution_count": 213
        }
      ]
    },
    {
      "cell_type": "code",
      "metadata": {
        "colab": {
          "base_uri": "https://localhost:8080/"
        },
        "id": "K6AFgO565WNz",
        "outputId": "c6b74952-fb64-44af-f785-b7fba5ff12d6"
      },
      "source": [
        "iris.max()"
      ],
      "execution_count": null,
      "outputs": [
        {
          "output_type": "execute_result",
          "data": {
            "text/plain": [
              "sepal_length          7.9\n",
              "sepal_width           4.4\n",
              "petal_length          6.9\n",
              "petal_width           2.5\n",
              "species         virginica\n",
              "dtype: object"
            ]
          },
          "metadata": {
            "tags": []
          },
          "execution_count": 23
        }
      ]
    },
    {
      "cell_type": "code",
      "metadata": {
        "colab": {
          "base_uri": "https://localhost:8080/"
        },
        "id": "PIu3riLM6GtD",
        "outputId": "3320cd7b-eef4-4538-e34f-117cf0a2b891"
      },
      "source": [
        "iris.min()"
      ],
      "execution_count": null,
      "outputs": [
        {
          "output_type": "execute_result",
          "data": {
            "text/plain": [
              "sepal_length       4.3\n",
              "sepal_width          2\n",
              "petal_length         1\n",
              "petal_width        0.1\n",
              "species         setosa\n",
              "dtype: object"
            ]
          },
          "metadata": {
            "tags": []
          },
          "execution_count": 29
        }
      ]
    },
    {
      "cell_type": "markdown",
      "metadata": {
        "id": "_TdZFwUE5o-V"
      },
      "source": [
        "Abbiamo anche diverse funzioni per i vari indici di posizione (es. media, mediana e moda)."
      ]
    },
    {
      "cell_type": "code",
      "metadata": {
        "colab": {
          "base_uri": "https://localhost:8080/"
        },
        "id": "mn_GXAwk5evg",
        "outputId": "a65f8064-79e3-449e-ee45-92039a1aa820"
      },
      "source": [
        "iris.mean()"
      ],
      "execution_count": null,
      "outputs": [
        {
          "output_type": "execute_result",
          "data": {
            "text/plain": [
              "sepal_length    5.843333\n",
              "sepal_width     3.054000\n",
              "petal_length    3.758667\n",
              "petal_width     1.198667\n",
              "dtype: float64"
            ]
          },
          "metadata": {
            "tags": []
          },
          "execution_count": 25
        }
      ]
    },
    {
      "cell_type": "code",
      "metadata": {
        "colab": {
          "base_uri": "https://localhost:8080/"
        },
        "id": "F3ttr2_V5h0z",
        "outputId": "254c1452-4792-4690-de9d-77ad2809da48"
      },
      "source": [
        "iris.median()"
      ],
      "execution_count": null,
      "outputs": [
        {
          "output_type": "execute_result",
          "data": {
            "text/plain": [
              "sepal_length    5.80\n",
              "sepal_width     3.00\n",
              "petal_length    4.35\n",
              "petal_width     1.30\n",
              "dtype: float64"
            ]
          },
          "metadata": {
            "tags": []
          },
          "execution_count": 26
        }
      ]
    },
    {
      "cell_type": "markdown",
      "metadata": {
        "id": "qyeB91Dv5tZj"
      },
      "source": [
        "e di dispersione (es. varianza e deviazione standard)"
      ]
    },
    {
      "cell_type": "code",
      "metadata": {
        "colab": {
          "base_uri": "https://localhost:8080/"
        },
        "id": "pJzqHhlD5j91",
        "outputId": "02aebcb3-4f38-44f5-92ff-ccb6cdfa9ddf"
      },
      "source": [
        "iris.var()"
      ],
      "execution_count": null,
      "outputs": [
        {
          "output_type": "execute_result",
          "data": {
            "text/plain": [
              "sepal_length    0.685694\n",
              "sepal_width     0.188004\n",
              "petal_length    3.113179\n",
              "petal_width     0.582414\n",
              "dtype: float64"
            ]
          },
          "metadata": {
            "tags": []
          },
          "execution_count": 27
        }
      ]
    },
    {
      "cell_type": "code",
      "metadata": {
        "colab": {
          "base_uri": "https://localhost:8080/"
        },
        "id": "eK3hMRBG5mGa",
        "outputId": "0238cb5a-ad52-4a71-a600-60547c6e487b"
      },
      "source": [
        "iris.std()"
      ],
      "execution_count": null,
      "outputs": [
        {
          "output_type": "execute_result",
          "data": {
            "text/plain": [
              "sepal_length    0.828066\n",
              "sepal_width     0.433594\n",
              "petal_length    1.764420\n",
              "petal_width     0.763161\n",
              "dtype: float64"
            ]
          },
          "metadata": {
            "tags": []
          },
          "execution_count": 28
        }
      ]
    },
    {
      "cell_type": "markdown",
      "metadata": {
        "id": "dyj6BEA8wLWb"
      },
      "source": [
        "Queste funzioni si applicano anche alle Series"
      ]
    },
    {
      "cell_type": "code",
      "metadata": {
        "id": "NO1oc7GQwLWc",
        "outputId": "01e40f4e-82e7-4c18-f992-c66e93380643"
      },
      "source": [
        "print(\"Massima lunghezza del petalo\")\n",
        "print (iris['petal_length'].max())\n",
        "print(\"Minima lunghezza del petalo\")\n",
        "print (iris['petal_length'].min())\n",
        "print(\"Lunghezza del petalo media\")\n",
        "print (iris['petal_length'].mean())\n",
        "print(\"Mediana della lunghezza del petalo\")\n",
        "print (iris['petal_length'].median())\n",
        "print(\"Varianza della lunghezza del petalo\")\n",
        "print (iris['petal_length'].var())\n",
        "print(\"Deviazione standard della lunghezza del petalo\")\n",
        "print (iris['petal_length'].std())"
      ],
      "execution_count": null,
      "outputs": [
        {
          "output_type": "stream",
          "text": [
            "Massima lunghezza del petalo\n",
            "6.9\n",
            "Minima lunghezza del petalo\n",
            "1.0\n",
            "Lunghezza del petalo media\n",
            "3.7586666666666693\n",
            "Mediana della lunghezza del petalo\n",
            "4.35\n",
            "Varianza della lunghezza del petalo\n",
            "3.1131794183445156\n",
            "Deviazione standard della lunghezza del petalo\n",
            "1.7644204199522617\n"
          ],
          "name": "stdout"
        }
      ]
    },
    {
      "cell_type": "markdown",
      "metadata": {
        "id": "M0HuofVrwLWc"
      },
      "source": [
        "Come abbiamo visto la colonna *species* è composta da variabili categoriche non numeriche, che rappresentano le classi di appartenenza, per vedere quali sono le classi possiamo usere l'attributo unique sulla colonna."
      ]
    },
    {
      "cell_type": "code",
      "metadata": {
        "id": "muNJ1ON_wLWc",
        "outputId": "64e860a3-a343-402f-bee2-064d09749173"
      },
      "source": [
        "iris['species'].unique()\n",
        "# iris['species'].nunique() #ritorna solo il conteggio"
      ],
      "execution_count": null,
      "outputs": [
        {
          "output_type": "execute_result",
          "data": {
            "text/plain": [
              "array(['setosa', 'versicolor', 'virginica'], dtype=object)"
            ]
          },
          "metadata": {
            "tags": []
          },
          "execution_count": 214
        }
      ]
    },
    {
      "cell_type": "markdown",
      "metadata": {
        "id": "ig99swFw61Ur"
      },
      "source": [
        "E se volessimo sapere quante osservazioni di una determinata classe ci sono? Possiamo usare value_counts"
      ]
    },
    {
      "cell_type": "code",
      "metadata": {
        "colab": {
          "base_uri": "https://localhost:8080/"
        },
        "id": "PgRTbDrJ6_bF",
        "outputId": "906b18b2-fc89-4695-afb1-9e61f138447d"
      },
      "source": [
        "iris['species'].value_counts()"
      ],
      "execution_count": null,
      "outputs": [
        {
          "output_type": "execute_result",
          "data": {
            "text/plain": [
              "virginica     50\n",
              "versicolor    50\n",
              "setosa        50\n",
              "Name: species, dtype: int64"
            ]
          },
          "metadata": {
            "tags": []
          },
          "execution_count": 32
        }
      ]
    },
    {
      "cell_type": "markdown",
      "metadata": {
        "id": "OdEjnT4nwLWc"
      },
      "source": [
        "## Maschere e Filtri (Indicizzazione booleana)"
      ]
    },
    {
      "cell_type": "markdown",
      "metadata": {
        "id": "vTqiMLFVwLWd"
      },
      "source": [
        "Pandas da la possibilità di creare filtri sui dati applicando delle maschere ad un Dataframe.\n",
        "Una maschera è un vettore di variabili booleane che funge da indicatore di quali righe selezionare e quali scartare.\n",
        "Creare una maschera è semplicissimo."
      ]
    },
    {
      "cell_type": "code",
      "metadata": {
        "scrolled": true,
        "id": "LiIa13HJwLWd",
        "outputId": "9d6a208d-b09a-4aac-842a-4416db5bbfee"
      },
      "source": [
        "long_petal_mask = iris['petal_length'] > iris['petal_length'].mean() #creiamo una maschera per selezionare solo le osservazioni i cui petali sono più lunghi della media\n",
        "iris_long_petals = iris[long_petal_mask] #applichiamo la maschera al dataframe e creiamo un nuovo dataframe\n",
        "iris_long_petals.head()"
      ],
      "execution_count": null,
      "outputs": [
        {
          "output_type": "execute_result",
          "data": {
            "text/html": [
              "<div>\n",
              "<style scoped>\n",
              "    .dataframe tbody tr th:only-of-type {\n",
              "        vertical-align: middle;\n",
              "    }\n",
              "\n",
              "    .dataframe tbody tr th {\n",
              "        vertical-align: top;\n",
              "    }\n",
              "\n",
              "    .dataframe thead th {\n",
              "        text-align: right;\n",
              "    }\n",
              "</style>\n",
              "<table border=\"1\" class=\"dataframe\">\n",
              "  <thead>\n",
              "    <tr style=\"text-align: right;\">\n",
              "      <th></th>\n",
              "      <th>sepal_length</th>\n",
              "      <th>sepal_width</th>\n",
              "      <th>petal_length</th>\n",
              "      <th>petal_width</th>\n",
              "      <th>species</th>\n",
              "    </tr>\n",
              "  </thead>\n",
              "  <tbody>\n",
              "    <tr>\n",
              "      <th>50</th>\n",
              "      <td>7.0</td>\n",
              "      <td>3.2</td>\n",
              "      <td>4.7</td>\n",
              "      <td>1.4</td>\n",
              "      <td>versicolor</td>\n",
              "    </tr>\n",
              "    <tr>\n",
              "      <th>51</th>\n",
              "      <td>6.4</td>\n",
              "      <td>3.2</td>\n",
              "      <td>4.5</td>\n",
              "      <td>1.5</td>\n",
              "      <td>versicolor</td>\n",
              "    </tr>\n",
              "    <tr>\n",
              "      <th>52</th>\n",
              "      <td>6.9</td>\n",
              "      <td>3.1</td>\n",
              "      <td>4.9</td>\n",
              "      <td>1.5</td>\n",
              "      <td>versicolor</td>\n",
              "    </tr>\n",
              "    <tr>\n",
              "      <th>53</th>\n",
              "      <td>5.5</td>\n",
              "      <td>2.3</td>\n",
              "      <td>4.0</td>\n",
              "      <td>1.3</td>\n",
              "      <td>versicolor</td>\n",
              "    </tr>\n",
              "    <tr>\n",
              "      <th>54</th>\n",
              "      <td>6.5</td>\n",
              "      <td>2.8</td>\n",
              "      <td>4.6</td>\n",
              "      <td>1.5</td>\n",
              "      <td>versicolor</td>\n",
              "    </tr>\n",
              "  </tbody>\n",
              "</table>\n",
              "</div>"
            ],
            "text/plain": [
              "    sepal_length  sepal_width  petal_length  petal_width     species\n",
              "50           7.0          3.2           4.7          1.4  versicolor\n",
              "51           6.4          3.2           4.5          1.5  versicolor\n",
              "52           6.9          3.1           4.9          1.5  versicolor\n",
              "53           5.5          2.3           4.0          1.3  versicolor\n",
              "54           6.5          2.8           4.6          1.5  versicolor"
            ]
          },
          "metadata": {
            "tags": []
          },
          "execution_count": 20
        }
      ]
    },
    {
      "cell_type": "markdown",
      "metadata": {
        "id": "2SKLHnZ3C5n8"
      },
      "source": [
        "Possiamo anche usare condizioni multiple"
      ]
    },
    {
      "cell_type": "code",
      "metadata": {
        "colab": {
          "base_uri": "https://localhost:8080/",
          "height": 205
        },
        "id": "r4GEuslGC5Cx",
        "outputId": "7157ffd1-3cbd-41cd-a346-ac0bb705bcc7"
      },
      "source": [
        "#https://stackoverflow.com/a/36922103 \n",
        "long_petal_mask = (iris['petal_length'].quantile(0.25) < iris['petal_length']) & (iris['petal_length'].quantile(0.75) > iris['petal_length'])\n",
        "iris_long_petals = iris[long_petal_mask] \n",
        "iris_long_petals.head()"
      ],
      "execution_count": null,
      "outputs": [
        {
          "output_type": "execute_result",
          "data": {
            "text/html": [
              "<div>\n",
              "<style scoped>\n",
              "    .dataframe tbody tr th:only-of-type {\n",
              "        vertical-align: middle;\n",
              "    }\n",
              "\n",
              "    .dataframe tbody tr th {\n",
              "        vertical-align: top;\n",
              "    }\n",
              "\n",
              "    .dataframe thead th {\n",
              "        text-align: right;\n",
              "    }\n",
              "</style>\n",
              "<table border=\"1\" class=\"dataframe\">\n",
              "  <thead>\n",
              "    <tr style=\"text-align: right;\">\n",
              "      <th></th>\n",
              "      <th>sepal_length</th>\n",
              "      <th>sepal_width</th>\n",
              "      <th>petal_length</th>\n",
              "      <th>petal_width</th>\n",
              "      <th>species</th>\n",
              "    </tr>\n",
              "  </thead>\n",
              "  <tbody>\n",
              "    <tr>\n",
              "      <th>5</th>\n",
              "      <td>5.4</td>\n",
              "      <td>3.9</td>\n",
              "      <td>1.7</td>\n",
              "      <td>0.4</td>\n",
              "      <td>setosa</td>\n",
              "    </tr>\n",
              "    <tr>\n",
              "      <th>18</th>\n",
              "      <td>5.7</td>\n",
              "      <td>3.8</td>\n",
              "      <td>1.7</td>\n",
              "      <td>0.3</td>\n",
              "      <td>setosa</td>\n",
              "    </tr>\n",
              "    <tr>\n",
              "      <th>20</th>\n",
              "      <td>5.4</td>\n",
              "      <td>3.4</td>\n",
              "      <td>1.7</td>\n",
              "      <td>0.2</td>\n",
              "      <td>setosa</td>\n",
              "    </tr>\n",
              "    <tr>\n",
              "      <th>23</th>\n",
              "      <td>5.1</td>\n",
              "      <td>3.3</td>\n",
              "      <td>1.7</td>\n",
              "      <td>0.5</td>\n",
              "      <td>setosa</td>\n",
              "    </tr>\n",
              "    <tr>\n",
              "      <th>24</th>\n",
              "      <td>4.8</td>\n",
              "      <td>3.4</td>\n",
              "      <td>1.9</td>\n",
              "      <td>0.2</td>\n",
              "      <td>setosa</td>\n",
              "    </tr>\n",
              "  </tbody>\n",
              "</table>\n",
              "</div>"
            ],
            "text/plain": [
              "    sepal_length  sepal_width  petal_length  petal_width species\n",
              "5            5.4          3.9           1.7          0.4  setosa\n",
              "18           5.7          3.8           1.7          0.3  setosa\n",
              "20           5.4          3.4           1.7          0.2  setosa\n",
              "23           5.1          3.3           1.7          0.5  setosa\n",
              "24           4.8          3.4           1.9          0.2  setosa"
            ]
          },
          "metadata": {
            "tags": []
          },
          "execution_count": 16
        }
      ]
    },
    {
      "cell_type": "markdown",
      "metadata": {
        "id": "c_0agMhJwLWd"
      },
      "source": [
        "Possiamo usare le maschere anche per fare modifiche ai dati basate su condizioni.\n"
      ]
    },
    {
      "cell_type": "code",
      "metadata": {
        "id": "IMlF4CL-wLWd",
        "outputId": "94c75e84-950d-4b7b-da1f-7dad0780e0bb"
      },
      "source": [
        "iris_copy = iris.copy() #Utilizziamo copy per non modificare il DataFrame originale\n",
        "setosa_mask = iris_copy['species'] ==  'setosa' #creiamo una maschera per selezionare solo le osservazioni che appartengono alla specie setosa\n",
        "iris_copy.loc[setosa_mask,'species'] = \"undefined\" # utilizziamo loc per applicare la maschera e sostituire la specie versicolor con undefined\n",
        "iris_copy['species'].unique()"
      ],
      "execution_count": null,
      "outputs": [
        {
          "output_type": "execute_result",
          "data": {
            "text/plain": [
              "array(['undefined', 'versicolor', 'virginica'], dtype=object)"
            ]
          },
          "metadata": {
            "tags": []
          },
          "execution_count": 251
        }
      ]
    },
    {
      "cell_type": "markdown",
      "metadata": {
        "id": "w9Enc0qOwLWd"
      },
      "source": [
        "**NOTA BENE**\n",
        "Utilizziamo *iris.copy()* per creare una copia del DataFrame, se avessimo utilizzato *iris_copy = iris* avremmo assegnato a iris_copy un riferimento al DataFrame iris, questo vuol dire che ogni modifica a iris_copy sarebbe stata apportata anche a iris."
      ]
    },
    {
      "cell_type": "markdown",
      "metadata": {
        "id": "oiB4s3W_wLWe"
      },
      "source": [
        "# Operazioni sul dataset\n",
        "E' possibile eseguire operazioni aritmetiche sul dataset. Eseguiamo una normalizzazione del dataset"
      ]
    },
    {
      "cell_type": "code",
      "metadata": {
        "id": "kA4DUPouwLWe",
        "colab": {
          "base_uri": "https://localhost:8080/",
          "height": 205
        },
        "outputId": "c9a6734c-431c-41ee-f08b-08aef80763fe"
      },
      "source": [
        "X = iris.drop('species',axis=1)\n",
        "X_norm = (X - X.min())/(X.max()-X.min())  \n",
        "X_norm.head()"
      ],
      "execution_count": null,
      "outputs": [
        {
          "output_type": "execute_result",
          "data": {
            "text/html": [
              "<div>\n",
              "<style scoped>\n",
              "    .dataframe tbody tr th:only-of-type {\n",
              "        vertical-align: middle;\n",
              "    }\n",
              "\n",
              "    .dataframe tbody tr th {\n",
              "        vertical-align: top;\n",
              "    }\n",
              "\n",
              "    .dataframe thead th {\n",
              "        text-align: right;\n",
              "    }\n",
              "</style>\n",
              "<table border=\"1\" class=\"dataframe\">\n",
              "  <thead>\n",
              "    <tr style=\"text-align: right;\">\n",
              "      <th></th>\n",
              "      <th>sepal_length</th>\n",
              "      <th>sepal_width</th>\n",
              "      <th>petal_length</th>\n",
              "      <th>petal_width</th>\n",
              "    </tr>\n",
              "  </thead>\n",
              "  <tbody>\n",
              "    <tr>\n",
              "      <th>0</th>\n",
              "      <td>0.222222</td>\n",
              "      <td>0.625000</td>\n",
              "      <td>0.067797</td>\n",
              "      <td>0.041667</td>\n",
              "    </tr>\n",
              "    <tr>\n",
              "      <th>1</th>\n",
              "      <td>0.166667</td>\n",
              "      <td>0.416667</td>\n",
              "      <td>0.067797</td>\n",
              "      <td>0.041667</td>\n",
              "    </tr>\n",
              "    <tr>\n",
              "      <th>2</th>\n",
              "      <td>0.111111</td>\n",
              "      <td>0.500000</td>\n",
              "      <td>0.050847</td>\n",
              "      <td>0.041667</td>\n",
              "    </tr>\n",
              "    <tr>\n",
              "      <th>3</th>\n",
              "      <td>0.083333</td>\n",
              "      <td>0.458333</td>\n",
              "      <td>0.084746</td>\n",
              "      <td>0.041667</td>\n",
              "    </tr>\n",
              "    <tr>\n",
              "      <th>4</th>\n",
              "      <td>0.194444</td>\n",
              "      <td>0.666667</td>\n",
              "      <td>0.067797</td>\n",
              "      <td>0.041667</td>\n",
              "    </tr>\n",
              "  </tbody>\n",
              "</table>\n",
              "</div>"
            ],
            "text/plain": [
              "   sepal_length  sepal_width  petal_length  petal_width\n",
              "0      0.222222     0.625000      0.067797     0.041667\n",
              "1      0.166667     0.416667      0.067797     0.041667\n",
              "2      0.111111     0.500000      0.050847     0.041667\n",
              "3      0.083333     0.458333      0.084746     0.041667\n",
              "4      0.194444     0.666667      0.067797     0.041667"
            ]
          },
          "metadata": {
            "tags": []
          },
          "execution_count": 59
        }
      ]
    },
    {
      "cell_type": "markdown",
      "metadata": {
        "id": "ttYBTbWEwLWe"
      },
      "source": [
        "Utilizzando il metodo sort_values possiamo ordinare il dataframe in base al valore di una colonna."
      ]
    },
    {
      "cell_type": "code",
      "metadata": {
        "id": "A-4MH3qDwLWe",
        "outputId": "d6506434-faee-49d3-bd42-a7263ffba115"
      },
      "source": [
        "\"\"\"\n",
        "ordiniamo il dataframe in base alla lunghezza dei petali in maniera ascendente,\n",
        "per effetturare un ordinamento discendente bisogna utilizzare il parametro ascending = False\n",
        "\"\"\"\n",
        "\n",
        "iris.sort_values('petal_length').head()\n",
        "                                      "
      ],
      "execution_count": null,
      "outputs": [
        {
          "output_type": "execute_result",
          "data": {
            "text/html": [
              "<div>\n",
              "<style scoped>\n",
              "    .dataframe tbody tr th:only-of-type {\n",
              "        vertical-align: middle;\n",
              "    }\n",
              "\n",
              "    .dataframe tbody tr th {\n",
              "        vertical-align: top;\n",
              "    }\n",
              "\n",
              "    .dataframe thead th {\n",
              "        text-align: right;\n",
              "    }\n",
              "</style>\n",
              "<table border=\"1\" class=\"dataframe\">\n",
              "  <thead>\n",
              "    <tr style=\"text-align: right;\">\n",
              "      <th></th>\n",
              "      <th>sepal_length</th>\n",
              "      <th>sepal_width</th>\n",
              "      <th>petal_length</th>\n",
              "      <th>petal_width</th>\n",
              "      <th>species</th>\n",
              "    </tr>\n",
              "  </thead>\n",
              "  <tbody>\n",
              "    <tr>\n",
              "      <th>22</th>\n",
              "      <td>4.6</td>\n",
              "      <td>3.6</td>\n",
              "      <td>1.0</td>\n",
              "      <td>0.2</td>\n",
              "      <td>setosa</td>\n",
              "    </tr>\n",
              "    <tr>\n",
              "      <th>13</th>\n",
              "      <td>4.3</td>\n",
              "      <td>3.0</td>\n",
              "      <td>1.1</td>\n",
              "      <td>0.1</td>\n",
              "      <td>setosa</td>\n",
              "    </tr>\n",
              "    <tr>\n",
              "      <th>14</th>\n",
              "      <td>5.8</td>\n",
              "      <td>4.0</td>\n",
              "      <td>1.2</td>\n",
              "      <td>0.2</td>\n",
              "      <td>setosa</td>\n",
              "    </tr>\n",
              "    <tr>\n",
              "      <th>35</th>\n",
              "      <td>5.0</td>\n",
              "      <td>3.2</td>\n",
              "      <td>1.2</td>\n",
              "      <td>0.2</td>\n",
              "      <td>setosa</td>\n",
              "    </tr>\n",
              "    <tr>\n",
              "      <th>36</th>\n",
              "      <td>5.5</td>\n",
              "      <td>3.5</td>\n",
              "      <td>1.3</td>\n",
              "      <td>0.2</td>\n",
              "      <td>setosa</td>\n",
              "    </tr>\n",
              "  </tbody>\n",
              "</table>\n",
              "</div>"
            ],
            "text/plain": [
              "    sepal_length  sepal_width  petal_length  petal_width species\n",
              "22           4.6          3.6           1.0          0.2  setosa\n",
              "13           4.3          3.0           1.1          0.1  setosa\n",
              "14           5.8          4.0           1.2          0.2  setosa\n",
              "35           5.0          3.2           1.2          0.2  setosa\n",
              "36           5.5          3.5           1.3          0.2  setosa"
            ]
          },
          "metadata": {
            "tags": []
          },
          "execution_count": 28
        }
      ]
    },
    {
      "cell_type": "markdown",
      "metadata": {
        "id": "U7kHZliNwLWf"
      },
      "source": [
        "Possiamo raggruppare un DataFrame per determinati valori o condizioni utilizzando il metodo groupby"
      ]
    },
    {
      "cell_type": "code",
      "metadata": {
        "id": "7V9WpaZawLWf",
        "outputId": "433bec7f-0624-4906-8dcb-f5fe329222be"
      },
      "source": [
        "grouped_species = iris.groupby(['species']) # Eseguiamo un raggruppamento per specie\n",
        "grouped_species.mean() # Mostriamo la media delle features per ogni specie "
      ],
      "execution_count": null,
      "outputs": [
        {
          "output_type": "execute_result",
          "data": {
            "text/html": [
              "<div>\n",
              "<style scoped>\n",
              "    .dataframe tbody tr th:only-of-type {\n",
              "        vertical-align: middle;\n",
              "    }\n",
              "\n",
              "    .dataframe tbody tr th {\n",
              "        vertical-align: top;\n",
              "    }\n",
              "\n",
              "    .dataframe thead th {\n",
              "        text-align: right;\n",
              "    }\n",
              "</style>\n",
              "<table border=\"1\" class=\"dataframe\">\n",
              "  <thead>\n",
              "    <tr style=\"text-align: right;\">\n",
              "      <th></th>\n",
              "      <th>sepal_length</th>\n",
              "      <th>sepal_width</th>\n",
              "      <th>petal_length</th>\n",
              "      <th>petal_width</th>\n",
              "    </tr>\n",
              "    <tr>\n",
              "      <th>species</th>\n",
              "      <th></th>\n",
              "      <th></th>\n",
              "      <th></th>\n",
              "      <th></th>\n",
              "    </tr>\n",
              "  </thead>\n",
              "  <tbody>\n",
              "    <tr>\n",
              "      <th>setosa</th>\n",
              "      <td>5.006</td>\n",
              "      <td>3.418</td>\n",
              "      <td>1.464</td>\n",
              "      <td>0.244</td>\n",
              "    </tr>\n",
              "    <tr>\n",
              "      <th>versicolor</th>\n",
              "      <td>5.936</td>\n",
              "      <td>2.770</td>\n",
              "      <td>4.260</td>\n",
              "      <td>1.326</td>\n",
              "    </tr>\n",
              "    <tr>\n",
              "      <th>virginica</th>\n",
              "      <td>6.588</td>\n",
              "      <td>2.974</td>\n",
              "      <td>5.552</td>\n",
              "      <td>2.026</td>\n",
              "    </tr>\n",
              "  </tbody>\n",
              "</table>\n",
              "</div>"
            ],
            "text/plain": [
              "            sepal_length  sepal_width  petal_length  petal_width\n",
              "species                                                         \n",
              "setosa             5.006        3.418         1.464        0.244\n",
              "versicolor         5.936        2.770         4.260        1.326\n",
              "virginica          6.588        2.974         5.552        2.026"
            ]
          },
          "metadata": {
            "tags": []
          },
          "execution_count": 289
        }
      ]
    },
    {
      "cell_type": "markdown",
      "metadata": {
        "id": "Uo_tCxWawLWf"
      },
      "source": [
        "Un problema tipico è quello di avere valori numerici invalidi o mancanti all'interno di un dataset. Utilizzando pandas è possibile correggere facilmente questo problema.\n",
        "Per prima cosa creiamo casualmente dieci valori non validi all'interno del DataFrame."
      ]
    },
    {
      "cell_type": "code",
      "metadata": {
        "id": "BzEoYwqvwLWf",
        "colab": {
          "base_uri": "https://localhost:8080/"
        },
        "outputId": "62918aba-2847-406d-a86c-099c57351981"
      },
      "source": [
        "import numpy as np\n",
        "\n",
        "iris_nan = iris.copy()  #Utilizziamo copy per non modificare il DataFrame originale\n",
        "\n",
        "max_val = iris.shape[0]\n",
        "samples = np.random.randint(max_val, size=(10)) #Creiamo un vettore di 10 numeri casuali tra 0 ed il numero di osservazioni\n",
        "\n",
        "iris_nan.loc[samples,'petal_length']=None #Sostituiamo il valore di \"petal_length\" per ognuna delle 10 osservazioni con un valore non valido\n",
        "\n",
        "iris_nan['petal_length'].isnull().sum() #contiamo il numero di valori non validi all'interno della colonna \"petal_legnth\""
      ],
      "execution_count": null,
      "outputs": [
        {
          "output_type": "execute_result",
          "data": {
            "text/plain": [
              "10"
            ]
          },
          "metadata": {
            "tags": []
          },
          "execution_count": 72
        }
      ]
    },
    {
      "cell_type": "code",
      "metadata": {
        "colab": {
          "base_uri": "https://localhost:8080/"
        },
        "id": "pcpfCF1ONlgb",
        "outputId": "0685b4e4-0816-4665-ad11-a897c7c16ad0"
      },
      "source": [
        "iris_nan.shape"
      ],
      "execution_count": null,
      "outputs": [
        {
          "output_type": "execute_result",
          "data": {
            "text/plain": [
              "(150, 5)"
            ]
          },
          "metadata": {
            "tags": []
          },
          "execution_count": 66
        }
      ]
    },
    {
      "cell_type": "markdown",
      "metadata": {
        "id": "HNIjpPjAwLWf"
      },
      "source": [
        "Adesso il nostro DataFrame presenta 10 valori non validi per la lunghezza del petalo, con il metodo drona possiamo rimuovere le righe che contengono questi valori"
      ]
    },
    {
      "cell_type": "code",
      "metadata": {
        "colab": {
          "base_uri": "https://localhost:8080/"
        },
        "id": "bPodO86uNTNW",
        "outputId": "d4f0ab8a-a54f-43e2-9a6f-3615e0abedf6"
      },
      "source": [
        "iris_drop_nan = iris_nan.dropna()\n",
        "iris_drop_nan.shape"
      ],
      "execution_count": null,
      "outputs": [
        {
          "output_type": "execute_result",
          "data": {
            "text/plain": [
              "(140, 5)"
            ]
          },
          "metadata": {
            "tags": []
          },
          "execution_count": 73
        }
      ]
    },
    {
      "cell_type": "markdown",
      "metadata": {
        "id": "f0H9BJhROatt"
      },
      "source": [
        "Oppure possiamo rimpiazzare i valori non validi con la lunghezza media del petalo utilizzando il metodo fillna"
      ]
    },
    {
      "cell_type": "code",
      "metadata": {
        "id": "myT1FOcVwLWf",
        "outputId": "4af91c27-d000-4c4a-9d24-22193f39d8e5"
      },
      "source": [
        "mean_petal_length = iris_nan['petal_length'].mean()\n",
        "iris_nan['petal_length'].fillna(mean_petal_length, inplace=True)\n",
        "iris_nan['petal_length'].isnull().sum() #verifichiamo che la colonna petal_length non contenga più valori non validi."
      ],
      "execution_count": null,
      "outputs": [
        {
          "output_type": "execute_result",
          "data": {
            "text/plain": [
              "0"
            ]
          },
          "metadata": {
            "tags": []
          },
          "execution_count": 34
        }
      ]
    },
    {
      "cell_type": "markdown",
      "metadata": {
        "id": "REk1slX2wLWg"
      },
      "source": [
        "E' possibile effettuare operazioni su righe e colonne utilizzando il metodo apply. Il primo argomento deve essere la funzione da applicare, che può essere una funzione python, una funzione definita dall'utente o una funzione di una libreria esterna."
      ]
    },
    {
      "cell_type": "code",
      "metadata": {
        "id": "vgi83Y2CwLWg",
        "colab": {
          "base_uri": "https://localhost:8080/"
        },
        "outputId": "5d65c67b-068a-482e-e9ad-baeba3aa5461"
      },
      "source": [
        "iris.apply(np.count_nonzero, axis=1).head() # contiamo i valori differenti da zero per riga"
      ],
      "execution_count": null,
      "outputs": [
        {
          "output_type": "execute_result",
          "data": {
            "text/plain": [
              "0    5\n",
              "1    5\n",
              "2    5\n",
              "3    5\n",
              "4    5\n",
              "dtype: int64"
            ]
          },
          "metadata": {
            "tags": []
          },
          "execution_count": 75
        }
      ]
    },
    {
      "cell_type": "code",
      "metadata": {
        "id": "x_Z1bTVnwLWg",
        "outputId": "df6a8c56-0614-4c74-8e8c-de54e61e3df4"
      },
      "source": [
        "iris.apply(np.count_nonzero, axis=0).head() # contiamo i valori differenti da zero per colonna"
      ],
      "execution_count": null,
      "outputs": [
        {
          "output_type": "execute_result",
          "data": {
            "text/plain": [
              "sepal_length    150\n",
              "sepal_width     150\n",
              "petal_length    150\n",
              "petal_width     150\n",
              "species         150\n",
              "dtype: int64"
            ]
          },
          "metadata": {
            "tags": []
          },
          "execution_count": 37
        }
      ]
    },
    {
      "cell_type": "code",
      "metadata": {
        "colab": {
          "base_uri": "https://localhost:8080/"
        },
        "id": "iini3N6EPaLt",
        "outputId": "cf52e90d-f2a3-4dbb-cf53-5345f044c0d0"
      },
      "source": [
        "X = iris.drop('species',axis=1)\n",
        "X.apply(np.sum, axis=0).head()"
      ],
      "execution_count": null,
      "outputs": [
        {
          "output_type": "execute_result",
          "data": {
            "text/plain": [
              "sepal_length    876.5\n",
              "sepal_width     458.1\n",
              "petal_length    563.8\n",
              "petal_width     179.8\n",
              "dtype: float64"
            ]
          },
          "metadata": {
            "tags": []
          },
          "execution_count": 84
        }
      ]
    },
    {
      "cell_type": "code",
      "metadata": {
        "colab": {
          "base_uri": "https://localhost:8080/"
        },
        "id": "7RMx_twqP2Jz",
        "outputId": "3a13d5de-99e4-4483-8740-e58526cc4114"
      },
      "source": [
        "def sum(arr):\n",
        "  # arr è un array numpy\n",
        "  return arr.sum()\n",
        "\n",
        "X.apply(sum, axis=0).head()"
      ],
      "execution_count": null,
      "outputs": [
        {
          "output_type": "execute_result",
          "data": {
            "text/plain": [
              "sepal_length    876.5\n",
              "sepal_width     458.1\n",
              "petal_length    563.8\n",
              "petal_width     179.8\n",
              "dtype: float64"
            ]
          },
          "metadata": {
            "tags": []
          },
          "execution_count": 86
        }
      ]
    },
    {
      "cell_type": "code",
      "metadata": {
        "colab": {
          "base_uri": "https://localhost:8080/"
        },
        "id": "2AdJOpHWSXHf",
        "outputId": "316b2434-80a5-4294-cc0b-9ad8966f8d71"
      },
      "source": [
        "def mean(arr):\n",
        "  # arr è un array numpy\n",
        "  return np.around(arr.sum()/arr.size, 2)\n",
        "\n",
        "X.apply(mean, axis=0).head()"
      ],
      "execution_count": null,
      "outputs": [
        {
          "output_type": "execute_result",
          "data": {
            "text/plain": [
              "sepal_length    5.86\n",
              "sepal_width     3.03\n",
              "petal_length    3.79\n",
              "petal_width     1.10\n",
              "dtype: float64"
            ]
          },
          "metadata": {
            "tags": []
          },
          "execution_count": 93
        }
      ]
    },
    {
      "cell_type": "markdown",
      "metadata": {
        "id": "KoUFqU7bwLWg"
      },
      "source": [
        "Per applicare una funzione elemento per elemento possiamo usare il metodo applymap"
      ]
    },
    {
      "cell_type": "code",
      "metadata": {
        "id": "7o12PxeHwLWh",
        "colab": {
          "base_uri": "https://localhost:8080/",
          "height": 205
        },
        "outputId": "10941e6c-d412-4982-a91c-ade1234e1a52"
      },
      "source": [
        "def to_nearest_int(val):\n",
        "  #Arrotondiamo il valore all'intero più vicino\n",
        "  return int(round(val,0))\n",
        "\n",
        "X = X.applymap(to_nearest_int)\n",
        "X.head()"
      ],
      "execution_count": null,
      "outputs": [
        {
          "output_type": "execute_result",
          "data": {
            "text/html": [
              "<div>\n",
              "<style scoped>\n",
              "    .dataframe tbody tr th:only-of-type {\n",
              "        vertical-align: middle;\n",
              "    }\n",
              "\n",
              "    .dataframe tbody tr th {\n",
              "        vertical-align: top;\n",
              "    }\n",
              "\n",
              "    .dataframe thead th {\n",
              "        text-align: right;\n",
              "    }\n",
              "</style>\n",
              "<table border=\"1\" class=\"dataframe\">\n",
              "  <thead>\n",
              "    <tr style=\"text-align: right;\">\n",
              "      <th></th>\n",
              "      <th>sepal_length</th>\n",
              "      <th>sepal_width</th>\n",
              "      <th>petal_length</th>\n",
              "      <th>petal_width</th>\n",
              "    </tr>\n",
              "  </thead>\n",
              "  <tbody>\n",
              "    <tr>\n",
              "      <th>0</th>\n",
              "      <td>5</td>\n",
              "      <td>4</td>\n",
              "      <td>1</td>\n",
              "      <td>0</td>\n",
              "    </tr>\n",
              "    <tr>\n",
              "      <th>1</th>\n",
              "      <td>5</td>\n",
              "      <td>3</td>\n",
              "      <td>1</td>\n",
              "      <td>0</td>\n",
              "    </tr>\n",
              "    <tr>\n",
              "      <th>2</th>\n",
              "      <td>5</td>\n",
              "      <td>3</td>\n",
              "      <td>1</td>\n",
              "      <td>0</td>\n",
              "    </tr>\n",
              "    <tr>\n",
              "      <th>3</th>\n",
              "      <td>5</td>\n",
              "      <td>3</td>\n",
              "      <td>2</td>\n",
              "      <td>0</td>\n",
              "    </tr>\n",
              "    <tr>\n",
              "      <th>4</th>\n",
              "      <td>5</td>\n",
              "      <td>4</td>\n",
              "      <td>1</td>\n",
              "      <td>0</td>\n",
              "    </tr>\n",
              "  </tbody>\n",
              "</table>\n",
              "</div>"
            ],
            "text/plain": [
              "   sepal_length  sepal_width  petal_length  petal_width\n",
              "0             5            4             1            0\n",
              "1             5            3             1            0\n",
              "2             5            3             1            0\n",
              "3             5            3             2            0\n",
              "4             5            4             1            0"
            ]
          },
          "metadata": {
            "tags": []
          },
          "execution_count": 88
        }
      ]
    },
    {
      "cell_type": "markdown",
      "metadata": {
        "id": "AumNy_cHSB2_"
      },
      "source": [
        "Piuttosto che definire una funzione, possiamo sfruttare le funzioni lambda (a.k.a funzioni anonime)"
      ]
    },
    {
      "cell_type": "code",
      "metadata": {
        "id": "-MKasn79RySm"
      },
      "source": [
        "X = X.applymap(lambda val:int(round(val,0)))# Arrotondiamo i valori all'intero più vicino\n",
        "X.head()"
      ],
      "execution_count": null,
      "outputs": []
    },
    {
      "cell_type": "markdown",
      "metadata": {
        "id": "NtiGPx4cwLWe"
      },
      "source": [
        "## Visualizzazioni\n",
        "Possiamo servirci di matplotlib per creare grafici e visualizzazioni in maniera semplice utilizzando DataFrame e Series.\n",
        "Costruiamo un grafico di dispersione (scatter plot) che mostra la relazione tra lunghezza del sepalo e larghezza del petalo"
      ]
    },
    {
      "cell_type": "code",
      "metadata": {
        "id": "xGRD93OCGuIr"
      },
      "source": [
        "import matplotlib.pyplot as plt\n",
        "\n",
        "\"\"\"\n",
        "l'istruzione che segue indica a jupyter\n",
        "di visualizzare il grafico all'interno del Notebook\n",
        "\"\"\"\n",
        "%matplotlib inline"
      ],
      "execution_count": null,
      "outputs": []
    },
    {
      "cell_type": "code",
      "metadata": {
        "id": "eavjKmUgwLWh",
        "colab": {
          "base_uri": "https://localhost:8080/",
          "height": 301
        },
        "outputId": "3b5d5fe6-2971-4568-c74d-26a7088c3c8a"
      },
      "source": [
        "iris.plot(kind=\"scatter\", x='sepal_length',y='sepal_width')"
      ],
      "execution_count": null,
      "outputs": [
        {
          "output_type": "execute_result",
          "data": {
            "text/plain": [
              "<matplotlib.axes._subplots.AxesSubplot at 0x7fe51ef71250>"
            ]
          },
          "metadata": {
            "tags": []
          },
          "execution_count": 24
        },
        {
          "output_type": "display_data",
          "data": {
            "image/png": "[encoded data removed]",
            "text/plain": [
              "<Figure size 432x288 with 1 Axes>"
            ]
          },
          "metadata": {
            "tags": [],
            "needs_background": "light"
          }
        }
      ]
    },
    {
      "cell_type": "markdown",
      "metadata": {
        "id": "phzqaQsCXiCd"
      },
      "source": [
        "Creiamo ora un grafico a barre (bar plot), per farlo raggruppiamo le osservazioni per specie e calcoliamo la media."
      ]
    },
    {
      "cell_type": "code",
      "metadata": {
        "id": "6T2bV783HgkL"
      },
      "source": [
        "grouped_species = iris.groupby(['species'])\n",
        "df_species = grouped_species.mean()"
      ],
      "execution_count": null,
      "outputs": []
    },
    {
      "cell_type": "code",
      "metadata": {
        "colab": {
          "base_uri": "https://localhost:8080/",
          "height": 336
        },
        "id": "CV_SorsNHvNP",
        "outputId": "8e7f55ef-1929-471e-8396-9af61658d99e"
      },
      "source": [
        "df_species.plot(kind=\"bar\", y='sepal_width')"
      ],
      "execution_count": null,
      "outputs": [
        {
          "output_type": "execute_result",
          "data": {
            "text/plain": [
              "<matplotlib.axes._subplots.AxesSubplot at 0x7fe51ed0a850>"
            ]
          },
          "metadata": {
            "tags": []
          },
          "execution_count": 31
        },
        {
          "output_type": "display_data",
          "data": {
            "image/png": "[encoded data removed]",
            "text/plain": [
              "<Figure size 432x288 with 1 Axes>"
            ]
          },
          "metadata": {
            "tags": [],
            "needs_background": "light"
          }
        }
      ]
    },
    {
      "cell_type": "markdown",
      "metadata": {
        "id": "B7r8-B8WXq5X"
      },
      "source": [
        ""
      ]
    },
    {
      "cell_type": "code",
      "metadata": {
        "colab": {
          "base_uri": "https://localhost:8080/",
          "height": 205
        },
        "id": "J08KY9weH4Sw",
        "outputId": "ce0a6b75-159b-46a7-fd1d-8ea9f9b672ce"
      },
      "source": [
        "days = 365\n",
        "df = pd.DataFrame(np.random.randn(days, 4), index=pd.date_range(\"1/1/2020\", periods=days), columns=[\"ProfessionAI\", \"Apple\", \"Google\", \"Facebook\"])\n",
        "df.head()"
      ],
      "execution_count": null,
      "outputs": [
        {
          "output_type": "execute_result",
          "data": {
            "text/html": [
              "<div>\n",
              "<style scoped>\n",
              "    .dataframe tbody tr th:only-of-type {\n",
              "        vertical-align: middle;\n",
              "    }\n",
              "\n",
              "    .dataframe tbody tr th {\n",
              "        vertical-align: top;\n",
              "    }\n",
              "\n",
              "    .dataframe thead th {\n",
              "        text-align: right;\n",
              "    }\n",
              "</style>\n",
              "<table border=\"1\" class=\"dataframe\">\n",
              "  <thead>\n",
              "    <tr style=\"text-align: right;\">\n",
              "      <th></th>\n",
              "      <th>ProfessionAI</th>\n",
              "      <th>Apple</th>\n",
              "      <th>Google</th>\n",
              "      <th>Facebook</th>\n",
              "    </tr>\n",
              "  </thead>\n",
              "  <tbody>\n",
              "    <tr>\n",
              "      <th>2020-01-01</th>\n",
              "      <td>-1.207413</td>\n",
              "      <td>-0.251530</td>\n",
              "      <td>-1.397817</td>\n",
              "      <td>-0.090778</td>\n",
              "    </tr>\n",
              "    <tr>\n",
              "      <th>2020-01-02</th>\n",
              "      <td>1.011259</td>\n",
              "      <td>1.857440</td>\n",
              "      <td>-0.911422</td>\n",
              "      <td>-0.190430</td>\n",
              "    </tr>\n",
              "    <tr>\n",
              "      <th>2020-01-03</th>\n",
              "      <td>-0.999531</td>\n",
              "      <td>-0.880076</td>\n",
              "      <td>0.095328</td>\n",
              "      <td>1.189068</td>\n",
              "    </tr>\n",
              "    <tr>\n",
              "      <th>2020-01-04</th>\n",
              "      <td>0.914764</td>\n",
              "      <td>-0.020914</td>\n",
              "      <td>0.432670</td>\n",
              "      <td>-0.450505</td>\n",
              "    </tr>\n",
              "    <tr>\n",
              "      <th>2020-01-05</th>\n",
              "      <td>2.056336</td>\n",
              "      <td>0.112838</td>\n",
              "      <td>0.675624</td>\n",
              "      <td>0.821380</td>\n",
              "    </tr>\n",
              "  </tbody>\n",
              "</table>\n",
              "</div>"
            ],
            "text/plain": [
              "            ProfessionAI     Apple    Google  Facebook\n",
              "2020-01-01     -1.207413 -0.251530 -1.397817 -0.090778\n",
              "2020-01-02      1.011259  1.857440 -0.911422 -0.190430\n",
              "2020-01-03     -0.999531 -0.880076  0.095328  1.189068\n",
              "2020-01-04      0.914764 -0.020914  0.432670 -0.450505\n",
              "2020-01-05      2.056336  0.112838  0.675624  0.821380"
            ]
          },
          "metadata": {
            "tags": []
          },
          "execution_count": 54
        }
      ]
    },
    {
      "cell_type": "code",
      "metadata": {
        "colab": {
          "base_uri": "https://localhost:8080/",
          "height": 205
        },
        "id": "5FyhQFtPIkpn",
        "outputId": "a506c2e1-ced7-4c3e-d0c7-e0f79aca3281"
      },
      "source": [
        "df = df.cumsum()\n",
        "df.head()"
      ],
      "execution_count": null,
      "outputs": [
        {
          "output_type": "execute_result",
          "data": {
            "text/html": [
              "<div>\n",
              "<style scoped>\n",
              "    .dataframe tbody tr th:only-of-type {\n",
              "        vertical-align: middle;\n",
              "    }\n",
              "\n",
              "    .dataframe tbody tr th {\n",
              "        vertical-align: top;\n",
              "    }\n",
              "\n",
              "    .dataframe thead th {\n",
              "        text-align: right;\n",
              "    }\n",
              "</style>\n",
              "<table border=\"1\" class=\"dataframe\">\n",
              "  <thead>\n",
              "    <tr style=\"text-align: right;\">\n",
              "      <th></th>\n",
              "      <th>ProfessionAI</th>\n",
              "      <th>Apple</th>\n",
              "      <th>Google</th>\n",
              "      <th>Facebook</th>\n",
              "    </tr>\n",
              "  </thead>\n",
              "  <tbody>\n",
              "    <tr>\n",
              "      <th>2020-01-01</th>\n",
              "      <td>-1.207413</td>\n",
              "      <td>-0.251530</td>\n",
              "      <td>-1.397817</td>\n",
              "      <td>-0.090778</td>\n",
              "    </tr>\n",
              "    <tr>\n",
              "      <th>2020-01-02</th>\n",
              "      <td>-0.196154</td>\n",
              "      <td>1.605909</td>\n",
              "      <td>-2.309239</td>\n",
              "      <td>-0.281208</td>\n",
              "    </tr>\n",
              "    <tr>\n",
              "      <th>2020-01-03</th>\n",
              "      <td>-1.195685</td>\n",
              "      <td>0.725833</td>\n",
              "      <td>-2.213911</td>\n",
              "      <td>0.907860</td>\n",
              "    </tr>\n",
              "    <tr>\n",
              "      <th>2020-01-04</th>\n",
              "      <td>-0.280921</td>\n",
              "      <td>0.704919</td>\n",
              "      <td>-1.781241</td>\n",
              "      <td>0.457355</td>\n",
              "    </tr>\n",
              "    <tr>\n",
              "      <th>2020-01-05</th>\n",
              "      <td>1.775415</td>\n",
              "      <td>0.817758</td>\n",
              "      <td>-1.105617</td>\n",
              "      <td>1.278736</td>\n",
              "    </tr>\n",
              "  </tbody>\n",
              "</table>\n",
              "</div>"
            ],
            "text/plain": [
              "            ProfessionAI     Apple    Google  Facebook\n",
              "2020-01-01     -1.207413 -0.251530 -1.397817 -0.090778\n",
              "2020-01-02     -0.196154  1.605909 -2.309239 -0.281208\n",
              "2020-01-03     -1.195685  0.725833 -2.213911  0.907860\n",
              "2020-01-04     -0.280921  0.704919 -1.781241  0.457355\n",
              "2020-01-05      1.775415  0.817758 -1.105617  1.278736"
            ]
          },
          "metadata": {
            "tags": []
          },
          "execution_count": 55
        }
      ]
    },
    {
      "cell_type": "code",
      "metadata": {
        "colab": {
          "base_uri": "https://localhost:8080/",
          "height": 205
        },
        "id": "oHwYt5HzLYv8",
        "outputId": "5eeaa8c1-071d-46da-ab43-4079457eb383"
      },
      "source": [
        "df+=abs(df.min().min())+8\n",
        "df.head()"
      ],
      "execution_count": null,
      "outputs": [
        {
          "output_type": "execute_result",
          "data": {
            "text/html": [
              "<div>\n",
              "<style scoped>\n",
              "    .dataframe tbody tr th:only-of-type {\n",
              "        vertical-align: middle;\n",
              "    }\n",
              "\n",
              "    .dataframe tbody tr th {\n",
              "        vertical-align: top;\n",
              "    }\n",
              "\n",
              "    .dataframe thead th {\n",
              "        text-align: right;\n",
              "    }\n",
              "</style>\n",
              "<table border=\"1\" class=\"dataframe\">\n",
              "  <thead>\n",
              "    <tr style=\"text-align: right;\">\n",
              "      <th></th>\n",
              "      <th>ProfessionAI</th>\n",
              "      <th>Apple</th>\n",
              "      <th>Google</th>\n",
              "      <th>Facebook</th>\n",
              "    </tr>\n",
              "  </thead>\n",
              "  <tbody>\n",
              "    <tr>\n",
              "      <th>2020-01-01</th>\n",
              "      <td>25.123921</td>\n",
              "      <td>26.079804</td>\n",
              "      <td>24.933518</td>\n",
              "      <td>26.240556</td>\n",
              "    </tr>\n",
              "    <tr>\n",
              "      <th>2020-01-02</th>\n",
              "      <td>26.135181</td>\n",
              "      <td>27.937244</td>\n",
              "      <td>24.022096</td>\n",
              "      <td>26.050126</td>\n",
              "    </tr>\n",
              "    <tr>\n",
              "      <th>2020-01-03</th>\n",
              "      <td>25.135649</td>\n",
              "      <td>27.057168</td>\n",
              "      <td>24.117424</td>\n",
              "      <td>27.239195</td>\n",
              "    </tr>\n",
              "    <tr>\n",
              "      <th>2020-01-04</th>\n",
              "      <td>26.050413</td>\n",
              "      <td>27.036254</td>\n",
              "      <td>24.550094</td>\n",
              "      <td>26.788690</td>\n",
              "    </tr>\n",
              "    <tr>\n",
              "      <th>2020-01-05</th>\n",
              "      <td>28.106749</td>\n",
              "      <td>27.149092</td>\n",
              "      <td>25.225718</td>\n",
              "      <td>27.610070</td>\n",
              "    </tr>\n",
              "  </tbody>\n",
              "</table>\n",
              "</div>"
            ],
            "text/plain": [
              "            ProfessionAI      Apple     Google   Facebook\n",
              "2020-01-01     25.123921  26.079804  24.933518  26.240556\n",
              "2020-01-02     26.135181  27.937244  24.022096  26.050126\n",
              "2020-01-03     25.135649  27.057168  24.117424  27.239195\n",
              "2020-01-04     26.050413  27.036254  24.550094  26.788690\n",
              "2020-01-05     28.106749  27.149092  25.225718  27.610070"
            ]
          },
          "metadata": {
            "tags": []
          },
          "execution_count": 56
        }
      ]
    },
    {
      "cell_type": "code",
      "metadata": {
        "colab": {
          "base_uri": "https://localhost:8080/",
          "height": 295
        },
        "id": "sn0GPmj3KwJX",
        "outputId": "0aa69e79-fb0d-4fa3-b1f6-d3665ea23629"
      },
      "source": [
        "df.plot()"
      ],
      "execution_count": null,
      "outputs": [
        {
          "output_type": "execute_result",
          "data": {
            "text/plain": [
              "<matplotlib.axes._subplots.AxesSubplot at 0x7fe51e8b5790>"
            ]
          },
          "metadata": {
            "tags": []
          },
          "execution_count": 57
        },
        {
          "output_type": "display_data",
          "data": {
            "image/png": "[encoded data removed]",
            "text/plain": [
              "<Figure size 432x288 with 1 Axes>"
            ]
          },
          "metadata": {
            "tags": [],
            "needs_background": "light"
          }
        }
      ]
    },
    {
      "cell_type": "code",
      "metadata": {
        "colab": {
          "base_uri": "https://localhost:8080/",
          "height": 295
        },
        "id": "GUYYNoPMLR0h",
        "outputId": "38170fd9-c03a-4585-e9f3-9eecaf733e14"
      },
      "source": [
        "df[\"ProfessionAI\"].plot()"
      ],
      "execution_count": null,
      "outputs": [
        {
          "output_type": "execute_result",
          "data": {
            "text/plain": [
              "<matplotlib.axes._subplots.AxesSubplot at 0x7fe51ec1c8d0>"
            ]
          },
          "metadata": {
            "tags": []
          },
          "execution_count": 58
        },
        {
          "output_type": "display_data",
          "data": {
            "image/png": "[encoded data removed]",
            "text/plain": [
              "<Figure size 432x288 with 1 Axes>"
            ]
          },
          "metadata": {
            "tags": [],
            "needs_background": "light"
          }
        }
      ]
    },
    {
      "cell_type": "markdown",
      "metadata": {
        "id": "aosOwMHW1mQM"
      },
      "source": [
        "## Da Pandas a Numpy\n",
        "https://www.geeksforgeeks.org/difference-between-pandas-vs-numpy/"
      ]
    },
    {
      "cell_type": "code",
      "metadata": {
        "id": "hHoobQB41oqv"
      },
      "source": [
        "data = {'altezza': [177, 181, 158, 171, 188], 'peso': [72.5, 80.2, 48.3, 56.8, 91.2], 'genere':[\"uomo\", \"uomo\", \"donna\", \"donna\", \"uomo\"]}\n",
        "df = pd.DataFrame(data)"
      ],
      "execution_count": null,
      "outputs": []
    },
    {
      "cell_type": "code",
      "metadata": {
        "colab": {
          "base_uri": "https://localhost:8080/"
        },
        "id": "Yt0an-Ld14lU",
        "outputId": "d125899c-3b7d-424c-fb7d-acc168557e75"
      },
      "source": [
        "heights = df[\"altezza\"].values\n",
        "type(heights)"
      ],
      "execution_count": null,
      "outputs": [
        {
          "output_type": "execute_result",
          "data": {
            "text/plain": [
              "numpy.ndarray"
            ]
          },
          "metadata": {
            "tags": []
          },
          "execution_count": 5
        }
      ]
    },
    {
      "cell_type": "code",
      "metadata": {
        "colab": {
          "base_uri": "https://localhost:8080/"
        },
        "id": "FtYY7nW116YU",
        "outputId": "91a09256-9c61-4f53-bd4d-7d24484d89f3"
      },
      "source": [
        "genders = df[\"genere\"].values\n",
        "type(genders)"
      ],
      "execution_count": null,
      "outputs": [
        {
          "output_type": "execute_result",
          "data": {
            "text/plain": [
              "numpy.ndarray"
            ]
          },
          "metadata": {
            "tags": []
          },
          "execution_count": 6
        }
      ]
    }
  ]
}